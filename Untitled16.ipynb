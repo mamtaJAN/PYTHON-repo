{
 "cells": [
  {
   "cell_type": "code",
   "execution_count": 5,
   "id": "e659e512-4755-4776-a635-4b060df3a1cd",
   "metadata": {},
   "outputs": [
    {
     "name": "stdout",
     "output_type": "stream",
     "text": [
      "hello Mamta\n"
     ]
    }
   ],
   "source": [
    "name=\"Mamta\"\n",
    "print(\"hello\",name)"
   ]
  },
  {
   "cell_type": "code",
   "execution_count": 14,
   "id": "5bc595b4-0d09-49d4-bf05-2ae6d3352e7a",
   "metadata": {},
   "outputs": [
    {
     "name": "stdin",
     "output_type": "stream",
     "text": [
      "enter the number n1 = 34\n",
      "enter the number n2= -67\n"
     ]
    },
    {
     "name": "stdout",
     "output_type": "stream",
     "text": [
      "res= -33\n",
      "-33  negative number"
     ]
    }
   ],
   "source": [
    "n1=int(input(\"enter the number n1 =\"))\n",
    "n2=int(input(\"enter the number n2=\"))\n",
    "res=n1+n2\n",
    "print(\"res=\",res)\n",
    "if(res > 0):\n",
    "    print(res,\" positive number\",end=\"\")\n",
    "else:\n",
    "    print(res,\" negative number\",end=\"\")"
   ]
  },
  {
   "cell_type": "code",
   "execution_count": 16,
   "id": "913453fa-2be7-4c25-9a45-7701f44cdd79",
   "metadata": {},
   "outputs": [
    {
     "name": "stdin",
     "output_type": "stream",
     "text": [
      "Guess the number:  5\n"
     ]
    },
    {
     "name": "stdout",
     "output_type": "stream",
     "text": [
      "Incorrect. Try again.\n"
     ]
    },
    {
     "name": "stdin",
     "output_type": "stream",
     "text": [
      "Guess the number:  6\n"
     ]
    },
    {
     "name": "stdout",
     "output_type": "stream",
     "text": [
      "Incorrect. Try again.\n"
     ]
    },
    {
     "name": "stdin",
     "output_type": "stream",
     "text": [
      "Guess the number:  3\n"
     ]
    },
    {
     "name": "stdout",
     "output_type": "stream",
     "text": [
      "Incorrect. Try again.\n"
     ]
    },
    {
     "name": "stdin",
     "output_type": "stream",
     "text": [
      "Guess the number:  11\n"
     ]
    },
    {
     "name": "stdout",
     "output_type": "stream",
     "text": [
      "Correct!\n"
     ]
    }
   ],
   "source": [
    "num=11\n",
    "while(True):\n",
    "        guess = int(input(\"Guess the number: \"))\n",
    "        if guess == num:\n",
    "            print(\"Correct!\")\n",
    "            break  \n",
    "        else:\n",
    "            print(\"Incorrect. Try again.\")\n"
   ]
  },
  {
   "cell_type": "code",
   "execution_count": 20,
   "id": "92f18fc3-fa54-436e-a6be-e8fe712fb42e",
   "metadata": {},
   "outputs": [
    {
     "ename": "AttributeError",
     "evalue": "'str' object has no attribute 'append'",
     "output_type": "error",
     "traceback": [
      "\u001b[1;31m---------------------------------------------------------------------------\u001b[0m",
      "\u001b[1;31mAttributeError\u001b[0m                            Traceback (most recent call last)",
      "Cell \u001b[1;32mIn[20], line 3\u001b[0m\n\u001b[0;32m      1\u001b[0m firstname\u001b[38;5;241m=\u001b[39m\u001b[38;5;124m\"\u001b[39m\u001b[38;5;124mMamta\u001b[39m\u001b[38;5;124m\"\u001b[39m\n\u001b[0;32m      2\u001b[0m lastname\u001b[38;5;241m=\u001b[39m\u001b[38;5;124m\"\u001b[39m\u001b[38;5;124mJangid\u001b[39m\u001b[38;5;124m\"\u001b[39m\n\u001b[1;32m----> 3\u001b[0m wholename\u001b[38;5;241m=\u001b[39m \u001b[43mfirstname\u001b[49m\u001b[38;5;241;43m.\u001b[39;49m\u001b[43mappend\u001b[49m(lastname)\n\u001b[0;32m      4\u001b[0m \u001b[38;5;28mprint\u001b[39m(wholename)\n",
      "\u001b[1;31mAttributeError\u001b[0m: 'str' object has no attribute 'append'"
     ]
    }
   ],
   "source": [
    "firstname=\"Mamta\"\n",
    "lastname=\"Jangid\"\n",
    "wholename= firstname.append(lastname)\n",
    "print(wholename)"
   ]
  },
  {
   "cell_type": "code",
   "execution_count": 22,
   "id": "ef1bac80-b1c5-42c0-abc5-08e4514e002c",
   "metadata": {},
   "outputs": [
    {
     "ename": "SyntaxError",
     "evalue": "invalid syntax (2875386880.py, line 1)",
     "output_type": "error",
     "traceback": [
      "\u001b[1;36m  Cell \u001b[1;32mIn[22], line 1\u001b[1;36m\u001b[0m\n\u001b[1;33m    <?php\u001b[0m\n\u001b[1;37m    ^\u001b[0m\n\u001b[1;31mSyntaxError\u001b[0m\u001b[1;31m:\u001b[0m invalid syntax\n"
     ]
    }
   ],
   "source": [
    "<?php\n",
    "$firstname = \"Mamta\";\n",
    "$lastname = \"Jangid\";\n",
    "$wholename = $firstname . ' ' . $lastname;\n",
    "echo $wholename;\n",
    "?>\n"
   ]
  },
  {
   "cell_type": "code",
   "execution_count": 24,
   "id": "5c2a5398-7686-42d0-b650-cdfbb08a5186",
   "metadata": {},
   "outputs": [
    {
     "ename": "SyntaxError",
     "evalue": "invalid syntax (3677689115.py, line 1)",
     "output_type": "error",
     "traceback": [
      "\u001b[1;36m  Cell \u001b[1;32mIn[24], line 1\u001b[1;36m\u001b[0m\n\u001b[1;33m    <php\u001b[0m\n\u001b[1;37m    ^\u001b[0m\n\u001b[1;31mSyntaxError\u001b[0m\u001b[1;31m:\u001b[0m invalid syntax\n"
     ]
    }
   ],
   "source": [
    "\n"
   ]
  },
  {
   "cell_type": "code",
   "execution_count": null,
   "id": "9c19ccc7-8c78-4cde-97dd-c92d15ef8b54",
   "metadata": {},
   "outputs": [],
   "source": []
  }
 ],
 "metadata": {
  "kernelspec": {
   "display_name": "Python 3 (ipykernel)",
   "language": "python",
   "name": "python3"
  },
  "language_info": {
   "codemirror_mode": {
    "name": "ipython",
    "version": 3
   },
   "file_extension": ".py",
   "mimetype": "text/x-python",
   "name": "python",
   "nbconvert_exporter": "python",
   "pygments_lexer": "ipython3",
   "version": "3.10.11"
  }
 },
 "nbformat": 4,
 "nbformat_minor": 5
}
