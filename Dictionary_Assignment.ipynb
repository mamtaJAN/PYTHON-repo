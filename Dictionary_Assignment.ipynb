{
 "cells": [
  {
   "cell_type": "code",
   "execution_count": 34,
   "id": "422f372d-1462-4945-9491-b01c8f531e67",
   "metadata": {},
   "outputs": [
    {
     "name": "stdout",
     "output_type": "stream",
     "text": [
      "regeX\n",
      "regeX SoftwarE\n",
      "nainA\n"
     ]
    }
   ],
   "source": [
    "data = \"regex Software\"\n",
    "inputdata= \"naina\"\n",
    "words = data.split()\n",
    "capitalwords = []\n",
    "for word in words:\n",
    "        if len(word) > 1:\n",
    "            capitalword = word[:-1] + word[-1].upper()\n",
    "        else:\n",
    "            capitalword = word.upper()\n",
    "        capitalwords.append(capitalword)\n",
    "        print(' '.join(capitalwords))\n",
    "print(output_str)"
   ]
  },
  {
   "cell_type": "code",
   "execution_count": null,
   "id": "b11801e4-92d2-4b68-bb01-aec8613126f2",
   "metadata": {},
   "outputs": [],
   "source": [
    "user_input=input(\"enter the srting \")\n",
    "stack = []\n",
    "mapping = {')': '(', ']': '[', '}': '{'}\n",
    "for char in user_input:\n",
    "        if char in mapping.values():\n",
    "            stack.append(char) \n",
    "        elif char in mapping.keys():\n",
    "            if stack and stack[-1] == mapping[char]:\n",
    "                stack.pop()\n",
    "            else:\n",
    "                 False\n",
    "        else:\n",
    "            continue\n",
    "print(len(stack) == 0)\n",
    "print(user_input) "
   ]
  },
  {
   "cell_type": "code",
   "execution_count": null,
   "id": "d9574a0e-6b56-423d-a2e4-67d08d5f0f7c",
   "metadata": {},
   "outputs": [],
   "source": []
  }
 ],
 "metadata": {
  "kernelspec": {
   "display_name": "Python 3 (ipykernel)",
   "language": "python",
   "name": "python3"
  },
  "language_info": {
   "codemirror_mode": {
    "name": "ipython",
    "version": 3
   },
   "file_extension": ".py",
   "mimetype": "text/x-python",
   "name": "python",
   "nbconvert_exporter": "python",
   "pygments_lexer": "ipython3",
   "version": "3.10.11"
  }
 },
 "nbformat": 4,
 "nbformat_minor": 5
}
