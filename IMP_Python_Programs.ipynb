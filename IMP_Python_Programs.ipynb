{
 "cells": [
  {
   "cell_type": "code",
   "execution_count": 37,
   "id": "6aacb994-2112-472d-8e8b-267f560a2680",
   "metadata": {},
   "outputs": [
    {
     "name": "stdout",
     "output_type": "stream",
     "text": [
      "    *  \n",
      "    * *  \n",
      "    * * *  \n",
      "    * * * *  \n"
     ]
    }
   ],
   "source": [
    "for i in range (1,5):\n",
    "    for j in range(1,3):\n",
    "       print(\" \",end=\" \")\n",
    "    for k in range(1,1+i):\n",
    "        print(\"*\",end=\" \")\n",
    "    print(\" \")\n"
   ]
  },
  {
   "cell_type": "code",
   "execution_count": 35,
   "id": "6a6c5a98-aafb-478a-b8c6-adb336ec70cd",
   "metadata": {},
   "outputs": [
    {
     "name": "stdout",
     "output_type": "stream",
     "text": [
      "          *  \n",
      "        * * *  \n",
      "      * * * * *  \n",
      "    * * * * * * *  \n",
      "  * * * * * * * * *  \n",
      "* * * * * * * * * * *  \n"
     ]
    }
   ],
   "source": [
    "for i in range (1,7):\n",
    "    for j in range(i,6):\n",
    "       print(\" \",end=\" \")\n",
    "    for k in range(1,2*i):\n",
    "        print(\"*\",end=\" \")\n",
    "    print(\" \")\n"
   ]
  },
  {
   "cell_type": "code",
   "execution_count": 29,
   "id": "c9dfb51e-d9e1-4d4e-82e9-740ee9069ce2",
   "metadata": {},
   "outputs": [
    {
     "name": "stdout",
     "output_type": "stream",
     "text": [
      "* * *  \n",
      "  * *  \n",
      "    *  \n",
      "       \n"
     ]
    }
   ],
   "source": [
    "for i in range (1,5):\n",
    "    for j in range(1,i):\n",
    "       print(\" \",end=\" \")\n",
    "    for k in range(1,5-i):\n",
    "        print(\"*\",end=\" \")\n",
    "    print(\" \")\n"
   ]
  },
  {
   "cell_type": "code",
   "execution_count": 48,
   "id": "57aa7790-51e1-4097-a451-12ebc28ef199",
   "metadata": {},
   "outputs": [
    {
     "name": "stdout",
     "output_type": "stream",
     "text": [
      "[10, 20, 30]\n"
     ]
    }
   ],
   "source": [
    "mylist=[10,20,30,45,7,3]\n",
    "mylist2=[]\n",
    "for i in [10,20,30,'r',45,7,\"m\"]:\n",
    "    if(type(i)is int ):\n",
    "        if i%2==0:\n",
    "          mylist2.append(i)\n",
    "print(mylist2)"
   ]
  },
  {
   "cell_type": "code",
   "execution_count": 50,
   "id": "084efb27-9054-43c4-873e-73572d188b4e",
   "metadata": {},
   "outputs": [
    {
     "name": "stdout",
     "output_type": "stream",
     "text": [
      "<class 'tuple'>\n"
     ]
    }
   ],
   "source": [
    "mytuple=10,20,'hey'\n",
    "print(type(mytuple))"
   ]
  },
  {
   "cell_type": "code",
   "execution_count": 51,
   "id": "b8c1ce99-72db-4841-b166-c298cbae00d5",
   "metadata": {},
   "outputs": [
    {
     "name": "stdout",
     "output_type": "stream",
     "text": [
      "<class 'int'>\n"
     ]
    }
   ],
   "source": [
    "mytuple=10\n",
    "print(type(mytuple))"
   ]
  },
  {
   "cell_type": "code",
   "execution_count": 52,
   "id": "52c82372-8231-4d5d-a49b-325d38175a4c",
   "metadata": {},
   "outputs": [
    {
     "name": "stdout",
     "output_type": "stream",
     "text": [
      "<class 'list'>\n"
     ]
    }
   ],
   "source": [
    "mytuple=[10]\n",
    "print(type(mytuple))"
   ]
  },
  {
   "cell_type": "code",
   "execution_count": 53,
   "id": "c06ea051-897c-4022-8c44-b8ae8001d593",
   "metadata": {},
   "outputs": [
    {
     "name": "stdout",
     "output_type": "stream",
     "text": [
      "<class 'list'>\n"
     ]
    }
   ],
   "source": [
    "mytuple=['mmj']\n",
    "print(type(mytuple))"
   ]
  },
  {
   "cell_type": "code",
   "execution_count": 54,
   "id": "52a75db5-be55-4f4a-8a61-7a1609a305e8",
   "metadata": {},
   "outputs": [
    {
     "name": "stdout",
     "output_type": "stream",
     "text": [
      "<class 'str'>\n"
     ]
    }
   ],
   "source": [
    "mytuple='mmj'\n",
    "print(type(mytuple))"
   ]
  },
  {
   "cell_type": "code",
   "execution_count": 55,
   "id": "da0629ba-85b4-4f64-94d7-9880421c0811",
   "metadata": {},
   "outputs": [
    {
     "name": "stdout",
     "output_type": "stream",
     "text": [
      "<class 'float'>\n"
     ]
    }
   ],
   "source": [
    "mytuple=980.889\n",
    "print(type(mytuple))"
   ]
  },
  {
   "cell_type": "code",
   "execution_count": 57,
   "id": "5c01d1e2-a088-4354-b56d-8f5504447e8b",
   "metadata": {},
   "outputs": [
    {
     "data": {
      "text/plain": [
       "'mamta'"
      ]
     },
     "execution_count": 57,
     "metadata": {},
     "output_type": "execute_result"
    }
   ],
   "source": [
    "mydictionary={1:\"mamta\",2:\"ram\",3:\"Jangid\"}\n",
    "mydictionary[1]"
   ]
  },
  {
   "cell_type": "code",
   "execution_count": 59,
   "id": "d17ccd54-4b5a-4725-9d1b-6af43f9519b4",
   "metadata": {},
   "outputs": [
    {
     "data": {
      "text/plain": [
       "'ram'"
      ]
     },
     "execution_count": 59,
     "metadata": {},
     "output_type": "execute_result"
    }
   ],
   "source": [
    "mydictionary={1:\"mamta\",2:\"ram\",3:\"Jangid\"}\n",
    "mydictionary[2]"
   ]
  },
  {
   "cell_type": "code",
   "execution_count": 64,
   "id": "992b08ae-de30-44a4-bbc0-e58714ef0553",
   "metadata": {},
   "outputs": [
    {
     "name": "stdout",
     "output_type": "stream",
     "text": [
      "{1: 'MAMTA', 2: 'ram', 3: 'Jangid'}\n"
     ]
    }
   ],
   "source": [
    "mydictionary={1:\"mamta\",2:\"ram\",3:\"Jangid\"}\n",
    "mydictionary[1]=\"MAMTA\"\n",
    "print(mydictionary)"
   ]
  },
  {
   "cell_type": "code",
   "execution_count": 62,
   "id": "4132896f-99a2-44eb-ab12-57fc7113013f",
   "metadata": {},
   "outputs": [],
   "source": [
    "mydictionary={1:\"mamta\",2:\"ram\",3:\"Jangid\"}\n",
    "mydictionary[4]=\"MAMTA\""
   ]
  },
  {
   "cell_type": "code",
   "execution_count": 63,
   "id": "cfdef2f9-9c0e-4e75-9eba-bdf466298ca9",
   "metadata": {},
   "outputs": [
    {
     "name": "stdout",
     "output_type": "stream",
     "text": [
      "{1: 'mamta', 2: 'ram', 3: 'Jangid', 4: 'MAMTA'}\n"
     ]
    }
   ],
   "source": [
    "print(mydictionary)"
   ]
  },
  {
   "cell_type": "code",
   "execution_count": 65,
   "id": "84070a96-c58a-4455-a8a2-5a939a6e2fb0",
   "metadata": {},
   "outputs": [
    {
     "name": "stdout",
     "output_type": "stream",
     "text": [
      "{2: 'ram', 3: 'Jangid'}\n"
     ]
    }
   ],
   "source": [
    "mydictionary={1:\"mamta\",2:\"ram\",3:\"Jangid\"}\n",
    "mydictionary.pop(1)\n",
    "print(mydictionary)"
   ]
  },
  {
   "cell_type": "code",
   "execution_count": 67,
   "id": "18bf66b5-b32b-45a2-b2ec-0e0893abf7cb",
   "metadata": {},
   "outputs": [
    {
     "data": {
      "text/plain": [
       "dict_items([(1, 'mamta'), (2, 'ram'), (3, 'Jangid')])"
      ]
     },
     "execution_count": 67,
     "metadata": {},
     "output_type": "execute_result"
    }
   ],
   "source": [
    "mydictionary={1:\"mamta\",2:\"ram\",3:\"Jangid\"}\n",
    "mydictionary.keys()\n",
    "mydictionary.values()\n",
    "mydictionary.items()\n"
   ]
  },
  {
   "cell_type": "code",
   "execution_count": 70,
   "id": "91d279af-e4ff-4284-a3cc-3dbac8bfcd5f",
   "metadata": {},
   "outputs": [
    {
     "name": "stdout",
     "output_type": "stream",
     "text": [
      "1 mamta\n",
      "2 ram\n",
      "3 Jangid\n"
     ]
    }
   ],
   "source": [
    "mydictionary={1:\"mamta\",2:\"ram\",3:\"Jangid\"}\n",
    "\n",
    "for i in mydictionary:\n",
    "    print(i,mydictionary[i])"
   ]
  },
  {
   "cell_type": "code",
   "execution_count": 72,
   "id": "a844f6f9-3f61-45c8-abcb-a6f7f211b98c",
   "metadata": {},
   "outputs": [
    {
     "name": "stdout",
     "output_type": "stream",
     "text": [
      "mamta\n",
      "ram\n",
      "Jangid\n"
     ]
    }
   ],
   "source": [
    "mydictionary={1:\"mamta\",2:\"ram\",3:\"Jangid\"}\n",
    "\n",
    "for i in mydictionary.values():\n",
    "    print(i)"
   ]
  },
  {
   "cell_type": "code",
   "execution_count": 73,
   "id": "0e501401-6527-46dd-b0cb-b5783ae87b1b",
   "metadata": {},
   "outputs": [
    {
     "name": "stdout",
     "output_type": "stream",
     "text": [
      "1\n",
      "2\n",
      "3\n"
     ]
    }
   ],
   "source": [
    "mydictionary={1:\"mamta\",2:\"ram\",3:\"Jangid\"}\n",
    "\n",
    "for i in mydictionary.keys():\n",
    "    print(i)"
   ]
  },
  {
   "cell_type": "code",
   "execution_count": 81,
   "id": "5e31abd3-3c26-4147-8d83-9aa25bbc3155",
   "metadata": {},
   "outputs": [
    {
     "name": "stdout",
     "output_type": "stream",
     "text": [
      "{'total=': 12}\n"
     ]
    }
   ],
   "source": [
    "data=\"MamtaJangid\"\n",
    "total=1\n",
    "for i in data:\n",
    "    total+=1\n",
    "print({\"total=\":total})\n"
   ]
  },
  {
   "cell_type": "code",
   "execution_count": 83,
   "id": "499f6e2c-1cfa-4064-b23e-1f573606e393",
   "metadata": {},
   "outputs": [
    {
     "name": "stdout",
     "output_type": "stream",
     "text": [
      "{'total': 7}\n"
     ]
    }
   ],
   "source": [
    "mydictionary={\"total\":0}\n",
    "total=1\n",
    "for i in \"hello12\":\n",
    "    mydictionary[\"total\"]=mydictionary[\"total\"]+1\n",
    "    \n",
    "print(mydictionary)\n"
   ]
  },
  {
   "cell_type": "code",
   "execution_count": 95,
   "id": "72700f06-0ba8-47d0-a41e-cc86fc46c78b",
   "metadata": {},
   "outputs": [
    {
     "name": "stdout",
     "output_type": "stream",
     "text": [
      "{'i': 2}\n",
      "{'i': 3}\n",
      "{'i': 4}\n",
      "{'i': 5}\n",
      "{'i': 6}\n"
     ]
    }
   ],
   "source": [
    "#\"hey tushar hello\"\n",
    "#{\"e\":2 ,\"u\":1,\"o\":1}\n",
    "\n",
    "mydictionary=\"hey tushar hello\"\n",
    "count=1\n",
    "for i in mydictionary:\n",
    "    if (i==\"a\"or i=='e'or i=='i'or i=='o'or i=='u'):\n",
    "        count+=1\n",
    "        print({\"i\":count})\n",
    "#not a exact output"
   ]
  },
  {
   "cell_type": "code",
   "execution_count": null,
   "id": "ad27464a-7e1c-479a-8963-b83f0190eed2",
   "metadata": {},
   "outputs": [],
   "source": []
  }
 ],
 "metadata": {
  "kernelspec": {
   "display_name": "Python 3 (ipykernel)",
   "language": "python",
   "name": "python3"
  },
  "language_info": {
   "codemirror_mode": {
    "name": "ipython",
    "version": 3
   },
   "file_extension": ".py",
   "mimetype": "text/x-python",
   "name": "python",
   "nbconvert_exporter": "python",
   "pygments_lexer": "ipython3",
   "version": "3.10.11"
  }
 },
 "nbformat": 4,
 "nbformat_minor": 5
}
