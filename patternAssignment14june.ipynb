{
 "cells": [
  {
   "cell_type": "code",
   "execution_count": 2,
   "id": "8f954417-7e28-4f9d-bdb9-dc5bf6fcfc04",
   "metadata": {},
   "outputs": [
    {
     "name": "stdout",
     "output_type": "stream",
     "text": [
      " \n",
      "1 \n",
      "12 \n",
      "123 \n",
      "1234 \n"
     ]
    }
   ],
   "source": [
    "\n",
    "for i in range(1,6,1):\n",
    "    for j in range(1,i):\n",
    "        print(j,end=\"\")\n",
    "    print(\" \")"
   ]
  },
  {
   "cell_type": "code",
   "execution_count": 3,
   "id": "32c2380c-57a6-418b-9480-1771f7ec23b0",
   "metadata": {},
   "outputs": [
    {
     "name": "stdout",
     "output_type": "stream",
     "text": [
      " \n",
      "1  \n",
      "2 3  \n",
      "4 5 6  \n",
      "7 8 9 10  \n"
     ]
    }
   ],
   "source": [
    "n = 1\n",
    "for i in range(1,6,1):\n",
    "    for j in range(1,i):\n",
    "        print(n,end=\" \")\n",
    "        n += 1\n",
    "    print(\" \")\n",
    "\t"
   ]
  },
  {
   "cell_type": "code",
   "execution_count": 5,
   "id": "9c7059c9-cfff-48da-984b-36dc08ab2071",
   "metadata": {},
   "outputs": [
    {
     "name": "stdout",
     "output_type": "stream",
     "text": [
      " \n",
      "10  \n",
      "9 8  \n",
      "7 6 5  \n",
      "4 3 2 1  \n"
     ]
    }
   ],
   "source": [
    "n = 10\n",
    "for i in range(1,6,1):\n",
    "    for j in range(1,i):\n",
    "        print(n,end=\" \")\n",
    "        n -= 1\n",
    "    print(\" \")\n",
    "\t"
   ]
  },
  {
   "cell_type": "code",
   "execution_count": 6,
   "id": "a36fd1ef-7197-4549-9f82-053b0b6db83b",
   "metadata": {},
   "outputs": [
    {
     "name": "stdout",
     "output_type": "stream",
     "text": [
      " \n",
      "A  \n",
      "B C  \n",
      "D E F  \n",
      "G H I J  \n"
     ]
    }
   ],
   "source": [
    "n = 1\n",
    "for i in range(1,6,1):\n",
    "    for j in range(1,i):\n",
    "        print(chr(64+n),end=\" \")\n",
    "        n += 1 \n",
    "    print(\" \")\n",
    "\t"
   ]
  },
  {
   "cell_type": "code",
   "execution_count": 7,
   "id": "a65fdca4-41ad-41bc-9971-d9d0d78884f4",
   "metadata": {},
   "outputs": [
    {
     "name": "stdout",
     "output_type": "stream",
     "text": [
      "A\n",
      "AB\n",
      "ABC\n",
      "ABCD\n"
     ]
    }
   ],
   "source": [
    "n=4    \n",
    "for i in range(1, n + 1):\n",
    "    for j in range(65, 65 + i):\n",
    "        print(chr(j), end=\"\")\n",
    "    print()\n"
   ]
  },
  {
   "cell_type": "code",
   "execution_count": 8,
   "id": "d20ce125-b9e9-4f58-a7a4-464bf3997d9a",
   "metadata": {},
   "outputs": [
    {
     "name": "stdout",
     "output_type": "stream",
     "text": [
      "Z\n",
      "YX\n",
      "XWV\n"
     ]
    }
   ],
   "source": [
    "    for i in range(3):\n",
    "        start_char = 90 - i\n",
    "        for j in range(i + 1):\n",
    "            print(chr(start_char - j), end=\"\")\n",
    "            \n",
    "        print()\n"
   ]
  },
  {
   "cell_type": "code",
   "execution_count": 9,
   "id": "7fd008b1-59ec-43fa-961e-c67356d7a5a9",
   "metadata": {},
   "outputs": [
    {
     "name": "stdout",
     "output_type": "stream",
     "text": [
      "* \n",
      "* *\n",
      "*   *\n",
      "*     *\n",
      "* * * * * \n"
     ]
    }
   ],
   "source": [
    "n=5\n",
    "for i in range(n):\n",
    "    if i == 0 or i == n - 1: \n",
    "        print(\"* \" * (i + 1))\n",
    "    else:  \n",
    "        print(\"* \" + \"  \" * (i - 1) + \"*\")\n",
    "\t\t"
   ]
  },
  {
   "cell_type": "code",
   "execution_count": 14,
   "id": "9869fc18-2cdb-4150-97de-8d1748201583",
   "metadata": {},
   "outputs": [
    {
     "name": "stdout",
     "output_type": "stream",
     "text": [
      "1a\n",
      "1a2b\n",
      "2b3c4d\n",
      "4d5e6f7g\n",
      "7g8h9i10j11k\n"
     ]
    }
   ],
   "source": [
    "\n",
    "    n=1\n",
    "    char=ord('a')\n",
    "    for i in range(1,6):\n",
    "        for j in range(i):\n",
    "            if j==i-1:\n",
    "                print(n, end=\"\")\n",
    "                print(chr(char), end=\"\")\n",
    "            else:\n",
    "                print(n,end=\"\")\n",
    "                print(chr(char), end=\"\")\n",
    "                char=char+1\n",
    "                n=n+ 1\n",
    "        print()\n"
   ]
  },
  {
   "cell_type": "code",
   "execution_count": null,
   "id": "85c1bd08-ad91-47a5-9884-cbee77545585",
   "metadata": {},
   "outputs": [],
   "source": []
  }
 ],
 "metadata": {
  "kernelspec": {
   "display_name": "Python 3 (ipykernel)",
   "language": "python",
   "name": "python3"
  },
  "language_info": {
   "codemirror_mode": {
    "name": "ipython",
    "version": 3
   },
   "file_extension": ".py",
   "mimetype": "text/x-python",
   "name": "python",
   "nbconvert_exporter": "python",
   "pygments_lexer": "ipython3",
   "version": "3.10.11"
  }
 },
 "nbformat": 4,
 "nbformat_minor": 5
}
