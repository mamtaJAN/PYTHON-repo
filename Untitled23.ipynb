{
 "cells": [
  {
   "cell_type": "code",
   "execution_count": 2,
   "id": "48fbe0cc-7139-404d-8d6e-8b4edab5ee3c",
   "metadata": {},
   "outputs": [
    {
     "name": "stdout",
     "output_type": "stream",
     "text": [
      "constructor called\n"
     ]
    }
   ],
   "source": [
    "class House():\n",
    "    def __init__(self):\n",
    "     print(\"constructor called\")\n",
    "\n",
    "\n",
    "h1=House()\n",
    "    "
   ]
  },
  {
   "cell_type": "code",
   "execution_count": 3,
   "id": "410135b1-7aaf-4b97-b25d-39ebc9fa0744",
   "metadata": {},
   "outputs": [
    {
     "name": "stdout",
     "output_type": "stream",
     "text": [
      "hi <__main__.House object at 0x000002CE2DA8FCD0>\n"
     ]
    }
   ],
   "source": [
    "print(\"hi\",h1)"
   ]
  },
  {
   "cell_type": "code",
   "execution_count": 5,
   "id": "5de83050-692b-4c8d-8c74-795f07415465",
   "metadata": {},
   "outputs": [
    {
     "name": "stdout",
     "output_type": "stream",
     "text": [
      "constructor called\n"
     ]
    }
   ],
   "source": [
    "regex=House()"
   ]
  },
  {
   "cell_type": "code",
   "execution_count": 6,
   "id": "973730a6-5b91-4d42-a441-d8b2c8659ebf",
   "metadata": {},
   "outputs": [
    {
     "name": "stdout",
     "output_type": "stream",
     "text": [
      "constructor called\n",
      "constructor called\n"
     ]
    }
   ],
   "source": [
    "class House():\n",
    "    def __init__(self,x):\n",
    "     print(\"constructor called\")\n",
    "\n",
    "\n",
    "h1=House(\"yello\")\n",
    "h2=House(\"red\")"
   ]
  },
  {
   "cell_type": "code",
   "execution_count": 12,
   "id": "8f9a8fef-8165-4a63-8435-c465ae803eb5",
   "metadata": {},
   "outputs": [
    {
     "data": {
      "text/plain": [
       "'yellow'"
      ]
     },
     "execution_count": 12,
     "metadata": {},
     "output_type": "execute_result"
    }
   ],
   "source": [
    "class House():\n",
    "    def __init__(self,x):\n",
    "     self.color=x\n",
    "\n",
    "h1=House(\"yellow\")\n",
    "h1.color"
   ]
  },
  {
   "cell_type": "code",
   "execution_count": 12,
   "id": "cfeb3121-370d-4073-b4d5-3b3673aca36f",
   "metadata": {},
   "outputs": [
    {
     "data": {
      "text/plain": [
       "'yellow'"
      ]
     },
     "execution_count": 12,
     "metadata": {},
     "output_type": "execute_result"
    }
   ],
   "source": [
    "class House():\n",
    "    def __init__(self,x):\n",
    "     self.color=x\n",
    "\n",
    "h1=House(\"yellow\")\n",
    "h1.color"
   ]
  },
  {
   "cell_type": "code",
   "execution_count": 12,
   "id": "99685dac-6187-4641-9ac7-e8f54e3cd686",
   "metadata": {},
   "outputs": [
    {
     "data": {
      "text/plain": [
       "'yellow'"
      ]
     },
     "execution_count": 12,
     "metadata": {},
     "output_type": "execute_result"
    }
   ],
   "source": [
    "class House():\n",
    "    def __init__(self,x):\n",
    "     self.color=x\n",
    "\n",
    "h1=House(\"yellow\")\n",
    "h1.color"
   ]
  },
  {
   "cell_type": "code",
   "execution_count": 8,
   "id": "3da9eb6d-9d2a-40fd-8de0-5e24efbf3372",
   "metadata": {},
   "outputs": [
    {
     "name": "stdout",
     "output_type": "stream",
     "text": [
      "10 1\n"
     ]
    }
   ],
   "source": [
    "def func(x,y):\n",
    "    print(x,y)\n",
    "func(10,1)"
   ]
  },
  {
   "cell_type": "code",
   "execution_count": 14,
   "id": "0c758741-3bd5-4492-8bba-6172b035604c",
   "metadata": {},
   "outputs": [
    {
     "data": {
      "text/plain": [
       "'red'"
      ]
     },
     "execution_count": 14,
     "metadata": {},
     "output_type": "execute_result"
    }
   ],
   "source": [
    "regex=House(\"red\")\n",
    "regex.color"
   ]
  },
  {
   "cell_type": "code",
   "execution_count": 16,
   "id": "401ceca2-17e0-4c94-8175-a5c4771e0323",
   "metadata": {},
   "outputs": [
    {
     "name": "stdout",
     "output_type": "stream",
     "text": [
      "yellow\n"
     ]
    }
   ],
   "source": [
    "class House():\n",
    "    def __init__(self,x,y):\n",
    "     self.color=x\n",
    "     self.room=y\n",
    "\n",
    "h1=House(\"yellow\",10)\n",
    "print(h1.color)"
   ]
  },
  {
   "cell_type": "code",
   "execution_count": 30,
   "id": "e0e81bd5-c886-4122-b25a-56960dda393e",
   "metadata": {},
   "outputs": [],
   "source": [
    "class Employee():\n",
    "    def __int__(self):\n",
    "        self\n",
    "        print(\"employee name mamta\")\n",
    "        print(\"employee id= 01\")\n",
    "#obj=Employee(\"mamta\")\n",
    "#print(obj.name)\n",
    "#print(obj.id)"
   ]
  },
  {
   "cell_type": "code",
   "execution_count": 1,
   "id": "5f00a222-7a62-40c9-978c-5d803c92abc0",
   "metadata": {},
   "outputs": [
    {
     "name": "stdout",
     "output_type": "stream",
     "text": [
      "Mamta\n"
     ]
    },
    {
     "data": {
      "text/plain": [
       "1"
      ]
     },
     "execution_count": 1,
     "metadata": {},
     "output_type": "execute_result"
    }
   ],
   "source": [
    "class Employee():\n",
    "    def __init__(self,x,y,z):\n",
    "     self.name=x\n",
    "     self.eid=y\n",
    "     self.mail=z\n",
    "h1=Employee(\"Mamta\",1,)\n",
    "print(\"name=\"h1.name)\n",
    "h1.eid\n",
    "h1.mail"
   ]
  },
  {
   "cell_type": "code",
   "execution_count": null,
   "id": "db7e32d7-f4bf-4127-a5d7-209e50d47dd9",
   "metadata": {},
   "outputs": [],
   "source": []
  }
 ],
 "metadata": {
  "kernelspec": {
   "display_name": "Python 3 (ipykernel)",
   "language": "python",
   "name": "python3"
  },
  "language_info": {
   "codemirror_mode": {
    "name": "ipython",
    "version": 3
   },
   "file_extension": ".py",
   "mimetype": "text/x-python",
   "name": "python",
   "nbconvert_exporter": "python",
   "pygments_lexer": "ipython3",
   "version": "3.10.11"
  }
 },
 "nbformat": 4,
 "nbformat_minor": 5
}
