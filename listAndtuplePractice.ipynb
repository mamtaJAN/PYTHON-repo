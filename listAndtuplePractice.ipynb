{
 "cells": [
  {
   "cell_type": "code",
   "execution_count": 3,
   "id": "100c1049-ddb7-451d-8304-e92ccffa8488",
   "metadata": {},
   "outputs": [
    {
     "name": "stdout",
     "output_type": "stream",
     "text": [
      "heyy\n",
      "heyy\n",
      "heyy\n",
      "heyy\n",
      "heyy\n",
      "4\n",
      "[10, 20, 60.0, 'hello']\n"
     ]
    }
   ],
   "source": [
    "mylist=[10,20,60.0,\"hello\"]\n",
    "len(mylist)\n",
    "count=0\n",
    "while(count<5):\n",
    "    print(\"heyy\")\n",
    "    count=count+1\n",
    "print(len(mylist))\n",
    "print(mylist)"
   ]
  },
  {
   "cell_type": "code",
   "execution_count": 9,
   "id": "5db48d6c-d9b7-45aa-b69b-adb3e0e3fe64",
   "metadata": {},
   "outputs": [
    {
     "name": "stdout",
     "output_type": "stream",
     "text": [
      "100\n",
      "400\n"
     ]
    }
   ],
   "source": [
    "for i in mylist:\n",
    "    if type(i) is int:\n",
    "        print(i**2)\n",
    "        "
   ]
  },
  {
   "cell_type": "code",
   "execution_count": 19,
   "id": "705e9519-35f4-41f3-882d-8c847705859d",
   "metadata": {},
   "outputs": [
    {
     "name": "stdout",
     "output_type": "stream",
     "text": [
      "[100, 400, 1225]\n"
     ]
    }
   ],
   "source": [
    "mylisst=[10,20,60.0,\"hello\",35]\n",
    "newlist=[]\n",
    "for i in mylisst:\n",
    "    if type(i) is int:\n",
    "        newlist.append(i**2)\n",
    "print(newlist)"
   ]
  },
  {
   "cell_type": "code",
   "execution_count": 20,
   "id": "f3b55f0e-eccb-4683-8841-2c85114985a6",
   "metadata": {},
   "outputs": [
    {
     "name": "stdout",
     "output_type": "stream",
     "text": [
      "[100]\n",
      "[100, 400]\n",
      "[100, 400, 25]\n",
      "[100, 400, 25, 1225]\n"
     ]
    }
   ],
   "source": [
    "mylisst=[1.0,10,20,60.0,5,35]\n",
    "newlist=[]\n",
    "for i in mylisst:\n",
    "    if type(i) is int:\n",
    "        newlist.append(i**2)\n",
    "        print(newlist)"
   ]
  },
  {
   "cell_type": "code",
   "execution_count": 23,
   "id": "de24c9a1-17a5-498e-aee4-fa1981133396",
   "metadata": {},
   "outputs": [
    {
     "name": "stdout",
     "output_type": "stream",
     "text": [
      "mamta\n",
      "mamta jangid\n",
      "mamta jangid naresh\n"
     ]
    }
   ],
   "source": [
    "mylisst=['mamta',\"jangid\",\"naresh\"]\n",
    "newlist=[]\n",
    "for i in mylisst:\n",
    "    if type(i) is str:\n",
    "        newlist.append(i)\n",
    "        print(*newlist)"
   ]
  },
  {
   "cell_type": "code",
   "execution_count": 25,
   "id": "982137e4-9629-44b8-a606-64e1a0beefa3",
   "metadata": {},
   "outputs": [
    {
     "name": "stdout",
     "output_type": "stream",
     "text": [
      "[5, 6, 6]\n"
     ]
    }
   ],
   "source": [
    "mylisst=[\"mamta\",\"jangid\",\"naresh\"]\n",
    "newlist=[]\n",
    "for i in mylisst:\n",
    "        newlist.append(len(i))\n",
    "print(newlist)"
   ]
  },
  {
   "cell_type": "code",
   "execution_count": null,
   "id": "d6f9e89d-29fe-4a0c-992c-f529c81a312c",
   "metadata": {},
   "outputs": [],
   "source": [
    "mytuple=(10,20)\n",
    "\n",
    "print(id(mytuple))\n",
    "\n",
    "mytuple=mytuple(30,40)\n",
    "\n",
    "print"
   ]
  }
 ],
 "metadata": {
  "kernelspec": {
   "display_name": "Python 3 (ipykernel)",
   "language": "python",
   "name": "python3"
  },
  "language_info": {
   "codemirror_mode": {
    "name": "ipython",
    "version": 3
   },
   "file_extension": ".py",
   "mimetype": "text/x-python",
   "name": "python",
   "nbconvert_exporter": "python",
   "pygments_lexer": "ipython3",
   "version": "3.10.11"
  }
 },
 "nbformat": 4,
 "nbformat_minor": 5
}
