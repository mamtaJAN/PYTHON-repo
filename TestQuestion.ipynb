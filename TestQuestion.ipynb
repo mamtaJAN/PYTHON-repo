{
 "cells": [
  {
   "cell_type": "code",
   "execution_count": 1,
   "id": "60afbabc-723c-40fb-838a-f88ca64f91d6",
   "metadata": {},
   "outputs": [
    {
     "name": "stdout",
     "output_type": "stream",
     "text": [
      "[1, 2, 3, 4, 5]\n"
     ]
    }
   ],
   "source": [
    "list1=[1,2,3,4,5]\n",
    "print(list1)"
   ]
  },
  {
   "cell_type": "code",
   "execution_count": 2,
   "id": "d50e0ca5-4bd9-436a-b8f0-579a9787e08c",
   "metadata": {},
   "outputs": [],
   "source": [
    "list1.append(6)"
   ]
  },
  {
   "cell_type": "code",
   "execution_count": 3,
   "id": "9544bb93-f39f-41e0-8518-2b0a068cc850",
   "metadata": {},
   "outputs": [
    {
     "name": "stdout",
     "output_type": "stream",
     "text": [
      "[1, 2, 3, 4, 5, 6]\n"
     ]
    }
   ],
   "source": [
    "print(list1)"
   ]
  },
  {
   "cell_type": "code",
   "execution_count": 4,
   "id": "9ba36c1d-08ae-4204-a3aa-e58698410fa6",
   "metadata": {},
   "outputs": [
    {
     "data": {
      "text/plain": [
       "6"
      ]
     },
     "execution_count": 4,
     "metadata": {},
     "output_type": "execute_result"
    }
   ],
   "source": [
    "list1.pop()"
   ]
  },
  {
   "cell_type": "code",
   "execution_count": 5,
   "id": "943d0e1b-4d4c-4728-858f-9db033405d46",
   "metadata": {},
   "outputs": [
    {
     "name": "stdout",
     "output_type": "stream",
     "text": [
      "[1, 2, 3, 4, 5]\n"
     ]
    }
   ],
   "source": [
    "print(list1)"
   ]
  },
  {
   "cell_type": "code",
   "execution_count": 12,
   "id": "908e8de1-869c-4683-a2d8-217799d2964c",
   "metadata": {},
   "outputs": [
    {
     "name": "stdout",
     "output_type": "stream",
     "text": [
      "[1, 2, 3, 4, 5, 6, 6, 7, 8, 6, 7, 8]\n"
     ]
    }
   ],
   "source": [
    "list1.extend([6,7,8])\n",
    "print(list1)"
   ]
  },
  {
   "cell_type": "code",
   "execution_count": 11,
   "id": "689ad86e-1dac-4b75-818a-cc12b8d38893",
   "metadata": {},
   "outputs": [
    {
     "name": "stdout",
     "output_type": "stream",
     "text": [
      "[1, 2, 3, 4, 5, 6, 6, 7, 8]\n"
     ]
    }
   ],
   "source": [
    "print(list1)"
   ]
  },
  {
   "cell_type": "code",
   "execution_count": 13,
   "id": "2ac6a8c6-0e04-4731-a8d2-ac063b836f3f",
   "metadata": {},
   "outputs": [],
   "source": [
    "list1.reverse()"
   ]
  },
  {
   "cell_type": "code",
   "execution_count": 14,
   "id": "38fd6043-9771-4a59-b18d-45d428b3a1ca",
   "metadata": {},
   "outputs": [
    {
     "name": "stdout",
     "output_type": "stream",
     "text": [
      "[8, 7, 6, 8, 7, 6, 6, 5, 4, 3, 2, 1]\n"
     ]
    }
   ],
   "source": [
    "print(list1)"
   ]
  },
  {
   "cell_type": "code",
   "execution_count": 19,
   "id": "60338e42-488a-432b-bf8e-8e858b70badb",
   "metadata": {},
   "outputs": [
    {
     "name": "stdout",
     "output_type": "stream",
     "text": [
      "Even: 1\n",
      "Odd: 2\n",
      "Even: 3\n",
      "Odd: 4\n",
      "Even: 5\n",
      "Odd: 6\n",
      "Even: 7\n"
     ]
    }
   ],
   "source": [
    "list2=[2,3,4,5,6,7,8]\n",
    "new=[]\n",
    "new1=[]\n",
    "total=0\n",
    "for i in list2:\n",
    "    if i%2==0:\n",
    "        total=total+1\n",
    "        new.append(i)\n",
    "        print(\"Even:\",total)    \n",
    "    else:\n",
    "        total=total+1\n",
    "        new1.append(i)\n",
    "        print(\"Odd:\",total)\n"
   ]
  },
  {
   "cell_type": "code",
   "execution_count": 31,
   "id": "32550e36-a30d-4d4a-aab7-b7313fb2a736",
   "metadata": {},
   "outputs": [
    {
     "name": "stdout",
     "output_type": "stream",
     "text": [
      "*         \n",
      "* *       \n",
      "*   *     \n",
      "*     *   \n",
      "*       * \n",
      "*     \n",
      "* *   \n",
      "*   * \n"
     ]
    }
   ],
   "source": [
    "for i in range(1,6):\n",
    "    for j in range(1,6):\n",
    "        if(j==0 or j==i or j==1):\n",
    "            print(\"*\",end=\" \")\n",
    "        else:\n",
    "            print(\" \",end=\" \")\n",
    "    print()\n",
    "for i in range(1,4):\n",
    "    for j in range(1,4):\n",
    "        if(j==i or j==1 or i==0):\n",
    "            print(\"*\",end=\" \")\n",
    "        else:\n",
    "            print(\" \",end=\" \")\n",
    "    print()"
   ]
  },
  {
   "cell_type": "code",
   "execution_count": 32,
   "id": "b1d49b67-5e35-47e0-beb6-d17185584f68",
   "metadata": {},
   "outputs": [
    {
     "name": "stdout",
     "output_type": "stream",
     "text": [
      "1\n"
     ]
    }
   ],
   "source": [
    "#str=\"use abc abc hello hey hey\"\n",
    "listt=['mamta','jangid','ram','rnj']\n",
    "print(listt.count('mamta'))\n"
   ]
  },
  {
   "cell_type": "code",
   "execution_count": 35,
   "id": "0f4302d6-815a-4654-ad75-8060fa70ab29",
   "metadata": {},
   "outputs": [
    {
     "name": "stdout",
     "output_type": "stream",
     "text": [
      "1\n"
     ]
    }
   ],
   "source": [
    "print(listt.count('ram'))\n"
   ]
  },
  {
   "cell_type": "code",
   "execution_count": 36,
   "id": "29522da4-38c4-4960-9d19-6397451fa7f1",
   "metadata": {},
   "outputs": [
    {
     "name": "stdout",
     "output_type": "stream",
     "text": [
      "metier TechTutors\n"
     ]
    }
   ],
   "source": [
    "print(\"metier TechTutors\")"
   ]
  },
  {
   "cell_type": "code",
   "execution_count": 37,
   "id": "07b650e8-9a22-43d9-a149-34c66d37345f",
   "metadata": {},
   "outputs": [
    {
     "name": "stdout",
     "output_type": "stream",
     "text": [
      "['metier', 'TechTutors']\n"
     ]
    }
   ],
   "source": [
    "print(\"metier TechTutors\".split())"
   ]
  },
  {
   "cell_type": "code",
   "execution_count": 41,
   "id": "c4897a6e-8a1b-456c-8335-ef581a4c1810",
   "metadata": {},
   "outputs": [],
   "source": [
    "list2=((\"metier TechTutors\".split()))"
   ]
  },
  {
   "cell_type": "code",
   "execution_count": 42,
   "id": "7e35ca6d-ab5a-4808-97f5-f43e972c3f33",
   "metadata": {},
   "outputs": [
    {
     "name": "stdout",
     "output_type": "stream",
     "text": [
      "['metier', 'TechTutors']\n"
     ]
    }
   ],
   "source": [
    "print(list2)"
   ]
  },
  {
   "cell_type": "code",
   "execution_count": 43,
   "id": "09f996c4-c189-4175-af38-6dd57d1de8d5",
   "metadata": {},
   "outputs": [
    {
     "name": "stdout",
     "output_type": "stream",
     "text": [
      "metier\n",
      "TechTutors\n"
     ]
    }
   ],
   "source": [
    "for i in list2:\n",
    "    print(i)"
   ]
  },
  {
   "cell_type": "code",
   "execution_count": 44,
   "id": "9e91f020-49cb-4615-80c3-09a8a9f319c1",
   "metadata": {},
   "outputs": [],
   "source": [
    "#str=\"use hello hey hey abc hello mamta ram\""
   ]
  },
  {
   "cell_type": "code",
   "execution_count": 45,
   "id": "9375ee61-6012-4edd-a26b-11251fc58f48",
   "metadata": {},
   "outputs": [
    {
     "name": "stdout",
     "output_type": "stream",
     "text": [
      "['use', 'hello', 'hey', 'hey', 'abc', 'hello', 'mamta', 'ram']\n"
     ]
    }
   ],
   "source": [
    "ll1=[]\n",
    "ll2=[]\n",
    "listn=(\"use hello hey hey abc hello mamta ram\".split())\n",
    "print(listn)"
   ]
  },
  {
   "cell_type": "code",
   "execution_count": 46,
   "id": "d1c4ea81-f22a-4b51-9ea7-a586e650d817",
   "metadata": {},
   "outputs": [
    {
     "name": "stdout",
     "output_type": "stream",
     "text": [
      "['use', 'hello', 'hey', 'abc', 'mamta', 'ram']\n",
      "['hey', 'hello']\n"
     ]
    }
   ],
   "source": [
    "for i in listn:\n",
    "    if i not in ll1:\n",
    "        ll1.append(i)\n",
    "    else:\n",
    "        ll2.append(i)\n",
    "print(ll1)\n",
    "print(ll2)"
   ]
  },
  {
   "cell_type": "code",
   "execution_count": null,
   "id": "1b575b35-16cd-4462-b7ad-578366348e45",
   "metadata": {},
   "outputs": [],
   "source": []
  }
 ],
 "metadata": {
  "kernelspec": {
   "display_name": "Python 3 (ipykernel)",
   "language": "python",
   "name": "python3"
  },
  "language_info": {
   "codemirror_mode": {
    "name": "ipython",
    "version": 3
   },
   "file_extension": ".py",
   "mimetype": "text/x-python",
   "name": "python",
   "nbconvert_exporter": "python",
   "pygments_lexer": "ipython3",
   "version": "3.10.11"
  }
 },
 "nbformat": 4,
 "nbformat_minor": 5
}
