{
 "cells": [
  {
   "cell_type": "code",
   "execution_count": 4,
   "id": "fe9579e5-99b6-44ad-82a2-88ae5500ac8b",
   "metadata": {},
   "outputs": [
    {
     "name": "stdout",
     "output_type": "stream",
     "text": [
      "xxxxx\n",
      "aaa\n",
      "\n"
     ]
    }
   ],
   "source": [
    "def func(n, c):\n",
    "    r= \"\"\n",
    "    for i in range(n):\n",
    "        r=r+c\n",
    "    return r\n",
    "\n",
    "print(func(5, \"x\"))  \n",
    "print(func(3, \"a\"))  \n",
    "print(func(0, \"z\"))  \n"
   ]
  },
  {
   "cell_type": "code",
   "execution_count": 29,
   "id": "26842658-a6e0-4478-869f-90af687c4503",
   "metadata": {},
   "outputs": [
    {
     "name": "stdout",
     "output_type": "stream",
     "text": [
      "The maximum number in the list is: 78\n"
     ]
    }
   ],
   "source": [
    "def func(num):\n",
    "    maxnum= num[0] \n",
    "    for i in num[1:]: \n",
    "        if i > maxnum:\n",
    "            maxnum = i\n",
    "    return maxnum\n",
    "\n",
    "list1 = [23, 45, 17, 56, 34, 12, 78, 29]\n",
    "num = func(list1)\n",
    "print(\"The maximum number in the list is:\", num)\n"
   ]
  },
  {
   "cell_type": "code",
   "execution_count": 8,
   "id": "f9587875-483f-4c76-b56a-f02226dba4b8",
   "metadata": {},
   "outputs": [
    {
     "name": "stdout",
     "output_type": "stream",
     "text": [
      "[5, 5, 4, 5]\n"
     ]
    }
   ],
   "source": [
    "def func(words):\n",
    "    lengths = [len(i) for i in words]\n",
    "    return lengths\n",
    "\n",
    "lit = [\"mamta\", \"neetu\", \"pihu\", \"meera\"]\n",
    "lenlist= func(lit)\n",
    "print(lenlist)\n"
   ]
  },
  {
   "cell_type": "code",
   "execution_count": 12,
   "id": "87f7e588-45ef-4c80-9142-b29c9f914c24",
   "metadata": {},
   "outputs": [
    {
     "name": "stdout",
     "output_type": "stream",
     "text": [
      "Length of the longest word: 5\n"
     ]
    }
   ],
   "source": [
    "func = lambda words: max(len(i) for i in words)\n",
    "\n",
    "lit = [\"mamta\", \"neetu\", \"pihu\", \"meera\"]\n",
    "longstlen= func(lit)\n",
    "print(\"Length of the longest word:\", longstlen)\n"
   ]
  },
  {
   "cell_type": "code",
   "execution_count": 15,
   "id": "3c1cb9fa-4074-4c5b-9d66-723133b30d00",
   "metadata": {},
   "outputs": [
    {
     "name": "stdout",
     "output_type": "stream",
     "text": [
      "Words longer than 5: ['mamtajangid']\n"
     ]
    }
   ],
   "source": [
    "funct= lambda words, n: list(filter(lambda word: len(word) > n, words))\n",
    "\n",
    "lit = [\"mamtajangid\", \"neetu\", \"pihu\", \"meera\"]\n",
    "n = 5\n",
    "longword = funct(lit, n)\n",
    "print(\"Words longer than {}: {}\".format(n, longword))\n"
   ]
  },
  {
   "cell_type": "code",
   "execution_count": 18,
   "id": "fd6add22-201a-4ad7-96d3-0c896b5232e8",
   "metadata": {},
   "outputs": [
    {
     "name": "stdout",
     "output_type": "stream",
     "text": [
      "\"Go hang a salami I'm a lasagna hog.\"=   is a palindrome.\n",
      "\"Was it a rat I saw?\"=   is a palindrome.\n",
      "\"Step on no pets\"=   is a palindrome.\n",
      "\"Sit on a potato pan, Otis\"=   is a palindrome.\n",
      "\"Lisa Bonet ate no basil\"=   is a palindrome.\n",
      "\"Satan, oscillate my metallic sonatas\"=   is a palindrome.\n",
      "\"I roamed under it as a tired nude Maori\"=   is a palindrome.\n",
      "\"Rise to vote sir\"=   is a palindrome.\n",
      "\"Dammit, I'm mad!\"=   is a palindrome.\n"
     ]
    }
   ],
   "source": [
    "import re\n",
    "def func(s):\n",
    "    s = re.sub(r'[^a-zA-Z0-9]', '', s.lower())\n",
    "    return s == s[::-1]\n",
    "phrases = [ \"Go hang a salami I'm a lasagna hog.\", \"Was it a rat I saw?\", \"Step on no pets\", \"Sit on a potato pan, Otis\",\n",
    "           \"Lisa Bonet ate no basil\", \"Satan, oscillate my metallic sonatas\",\n",
    "           \"I roamed under it as a tired nude Maori\",\"Rise to vote sir\", \"Dammit, I'm mad!\"]\n",
    "\n",
    "for i in phrases:\n",
    "    if func(i):\n",
    "        print(f'\"{i}\"=  is a palindrome.')\n",
    "    else:\n",
    "        print(f'\"{i}\" =  is not a palindrome.')\n"
   ]
  },
  {
   "cell_type": "code",
   "execution_count": 20,
   "id": "891a96b6-cbc6-4655-ae17-69a8362b5e4e",
   "metadata": {},
   "outputs": [
    {
     "name": "stdout",
     "output_type": "stream",
     "text": [
      "\"The quick brown fox jumps over the lazy dog.\" is a pangram: True\n",
      "\"Pack my box with five dozen liquor jugs.\" is a pangram: True\n",
      "\"This is not a pangram.\" is a pangram: False\n"
     ]
    }
   ],
   "source": [
    "def func(x):\n",
    "\n",
    "    x= x.lower()\n",
    "    alpha = set('abcdefghijklmnopqrstuvwxyz')\n",
    "  \n",
    "    let= set(filter(lambda x: x.isalpha(), x))\n",
    "    return alpha <= let\n",
    "\n",
    "a= \"The quick brown fox jumps over the lazy dog.\"\n",
    "b= \"Pack my box with five dozen liquor jugs.\"\n",
    "c= \"This is not a pangram.\"\n",
    "\n",
    "print(f'\"{a}\" is a pangram:', func(a))\n",
    "print(f'\"{b}\" is a pangram:', func(b))\n",
    "print(f'\"{c}\" is a pangram:', func(c))\n"
   ]
  },
  {
   "cell_type": "code",
   "execution_count": 23,
   "id": "8a8914ff-f809-434e-9aff-4119b5a5cfcb",
   "metadata": {},
   "outputs": [
    {
     "name": "stdout",
     "output_type": "stream",
     "text": [
      "English: ['Merry', 'Christmas', 'and', 'Happy', 'New', 'Year']\n",
      "Swedish: ['god', 'jul', 'och', 'gott', 'nytt', 'år']\n"
     ]
    }
   ],
   "source": [
    "def func(words, lexicon):\n",
    "    translat= []\n",
    "    for i in words:\n",
    "        translat.append(lexicon.get(i.lower(),i))\n",
    "    return translat\n",
    "    \n",
    "lexicon = { \"merry\": \"god\", \"christmas\": \"jul\",\"and\": \"och\", \"happy\": \"gott\", \"new\": \"nytt\",\"year\": \"år\"}\n",
    "eng = [\"Merry\", \"Christmas\", \"and\", \"Happy\", \"New\", \"Year\"]\n",
    "swed = func(eng, lexicon)\n",
    "print(\"English:\", eng)\n",
    "print(\"Swedish:\", swed)\n"
   ]
  },
  {
   "cell_type": "code",
   "execution_count": 24,
   "id": "d6dac642-5747-426a-8c48-22f1d825888e",
   "metadata": {},
   "outputs": [
    {
     "name": "stdout",
     "output_type": "stream",
     "text": [
      "Character frequency in 'abbabcbdbabdbdbabababcbcbab' is:\n",
      "a: 7\n",
      "b: 14\n",
      "c: 3\n",
      "d: 3\n"
     ]
    }
   ],
   "source": [
    "def charfre(s):\n",
    "    frequency = {}\n",
    "    for char in s:\n",
    "        if char in frequency:\n",
    "            frequency[char] += 1\n",
    "        else:\n",
    "            frequency[char] = 1\n",
    "    return frequency\n",
    "\n",
    "data = \"abbabcbdbabdbdbabababcbcbab\"\n",
    "freqdic= charfre(data)\n",
    "print(\"Character frequency in '{}' is:\".format(data))\n",
    "for char, freq in freqdic.items():\n",
    "    print(f\"{char}: {freq}\")\n"
   ]
  },
  {
   "cell_type": "code",
   "execution_count": null,
   "id": "f964f290-e7f2-479e-b60e-a8fe306d6c0b",
   "metadata": {},
   "outputs": [],
   "source": []
  }
 ],
 "metadata": {
  "kernelspec": {
   "display_name": "Python 3 (ipykernel)",
   "language": "python",
   "name": "python3"
  },
  "language_info": {
   "codemirror_mode": {
    "name": "ipython",
    "version": 3
   },
   "file_extension": ".py",
   "mimetype": "text/x-python",
   "name": "python",
   "nbconvert_exporter": "python",
   "pygments_lexer": "ipython3",
   "version": "3.10.11"
  }
 },
 "nbformat": 4,
 "nbformat_minor": 5
}
