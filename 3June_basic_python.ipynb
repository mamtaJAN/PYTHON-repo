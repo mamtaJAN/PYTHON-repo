{
  "nbformat": 4,
  "nbformat_minor": 0,
  "metadata": {
    "colab": {
      "provenance": []
    },
    "kernelspec": {
      "name": "python3",
      "display_name": "Python 3"
    },
    "language_info": {
      "name": "python"
    }
  },
  "cells": [
    {
      "cell_type": "code",
      "execution_count": 1,
      "metadata": {
        "colab": {
          "base_uri": "https://localhost:8080/"
        },
        "id": "OEQpLKNY4mPK",
        "outputId": "2307d3ab-7470-4af7-cded-6f599ef4c588"
      },
      "outputs": [
        {
          "output_type": "stream",
          "name": "stdout",
          "text": [
            "hello  world\n"
          ]
        }
      ],
      "source": [
        "print(\"hello  world\")"
      ]
    },
    {
      "cell_type": "code",
      "source": [
        "print('hello world')"
      ],
      "metadata": {
        "colab": {
          "base_uri": "https://localhost:8080/"
        },
        "id": "FYklT0-O5Bm2",
        "outputId": "93f58eeb-87ea-4dce-c8db-dc6e0834bd08"
      },
      "execution_count": 2,
      "outputs": [
        {
          "output_type": "stream",
          "name": "stdout",
          "text": [
            "hello world\n"
          ]
        }
      ]
    },
    {
      "cell_type": "code",
      "source": [
        "print(\"hello world\",end=\"\\n\")\n",
        "print('hey tushar')"
      ],
      "metadata": {
        "colab": {
          "base_uri": "https://localhost:8080/"
        },
        "id": "UA7FaMtA5H_2",
        "outputId": "65dd4b2f-b0a8-4a97-bd40-0e51ac50f531"
      },
      "execution_count": 6,
      "outputs": [
        {
          "output_type": "stream",
          "name": "stdout",
          "text": [
            "hello world\n",
            "hey tushar\n"
          ]
        }
      ]
    },
    {
      "cell_type": "code",
      "source": [
        "print(\"hello world\",end=\" \")\n",
        "print('hey tushar')\n",
        "print(\"test\")"
      ],
      "metadata": {
        "colab": {
          "base_uri": "https://localhost:8080/"
        },
        "id": "plsC-EVz5f7P",
        "outputId": "3b5a3f73-256e-40c0-be43-4be7d974b9a2"
      },
      "execution_count": 10,
      "outputs": [
        {
          "output_type": "stream",
          "name": "stdout",
          "text": [
            "hello world hey tushar\n",
            "test\n"
          ]
        }
      ]
    },
    {
      "cell_type": "code",
      "source": [
        "x=\"10\"\n",
        "print(x)\n",
        "print(  type(x)  )"
      ],
      "metadata": {
        "colab": {
          "base_uri": "https://localhost:8080/"
        },
        "id": "PArSZ26d59RW",
        "outputId": "5989d81f-7ccc-4861-d3fc-2fc2990681e8"
      },
      "execution_count": 13,
      "outputs": [
        {
          "output_type": "stream",
          "name": "stdout",
          "text": [
            "10\n",
            "<class 'str'>\n"
          ]
        }
      ]
    },
    {
      "cell_type": "code",
      "source": [
        "x=10\n",
        "print(x)\n",
        "print(  type(x)  )"
      ],
      "metadata": {
        "colab": {
          "base_uri": "https://localhost:8080/"
        },
        "id": "gg79ioqU6O5w",
        "outputId": "6e7d5370-b5d9-46b3-efa7-d52664bfe19b"
      },
      "execution_count": 15,
      "outputs": [
        {
          "output_type": "stream",
          "name": "stdout",
          "text": [
            "10\n",
            "<class 'int'>\n"
          ]
        }
      ]
    },
    {
      "cell_type": "code",
      "source": [
        "address=\"Jaipur india\"\n",
        "print(   type(address)      )"
      ],
      "metadata": {
        "colab": {
          "base_uri": "https://localhost:8080/"
        },
        "id": "p9zDsazS6qs3",
        "outputId": "841d898a-d114-4910-cda5-2d05178d5ec4"
      },
      "execution_count": 17,
      "outputs": [
        {
          "output_type": "stream",
          "name": "stdout",
          "text": [
            "<class 'str'>\n"
          ]
        }
      ]
    },
    {
      "cell_type": "code",
      "source": [
        "address=\"\"\"Jaipur\n",
        "india\n",
        "302018\"\"\"\n",
        "print(   address     )"
      ],
      "metadata": {
        "colab": {
          "base_uri": "https://localhost:8080/"
        },
        "id": "Rinqa5Xj6wpZ",
        "outputId": "1fe5afae-bfc5-479a-eab8-3365cbbe3024"
      },
      "execution_count": 22,
      "outputs": [
        {
          "output_type": "stream",
          "name": "stdout",
          "text": [
            "Jaipur \n",
            "india\n",
            "302018\n"
          ]
        }
      ]
    },
    {
      "cell_type": "code",
      "source": [
        "address='''Jaipur\n",
        "india\n",
        "302018'''\n",
        "print(   address     )"
      ],
      "metadata": {
        "colab": {
          "base_uri": "https://localhost:8080/"
        },
        "id": "IZxncAzO68a1",
        "outputId": "78e3ff7d-ea9d-4378-a6e8-a350341cbf9b"
      },
      "execution_count": 23,
      "outputs": [
        {
          "output_type": "stream",
          "name": "stdout",
          "text": [
            "Jaipur \n",
            "india\n",
            "302018\n"
          ]
        }
      ]
    },
    {
      "cell_type": "code",
      "source": [
        "# to understand the logic\n",
        "'''\n",
        "\n",
        "'''"
      ],
      "metadata": {
        "colab": {
          "base_uri": "https://localhost:8080/",
          "height": 35
        },
        "id": "63v3MsqV7bD7",
        "outputId": "6af0e0a7-2679-4acd-df43-a403d670f07c"
      },
      "execution_count": 24,
      "outputs": [
        {
          "output_type": "execute_result",
          "data": {
            "text/plain": [
              "'\\n\\n'"
            ],
            "application/vnd.google.colaboratory.intrinsic+json": {
              "type": "string"
            }
          },
          "metadata": {},
          "execution_count": 24
        }
      ]
    },
    {
      "cell_type": "code",
      "source": [
        "# string formatting"
      ],
      "metadata": {
        "id": "w35miL8C8e-s"
      },
      "execution_count": 25,
      "outputs": []
    },
    {
      "cell_type": "code",
      "source": [
        "year=2024\n",
        "company=\"regex software\"\n",
        "print(\"Year is\",year,\"company is\",company)"
      ],
      "metadata": {
        "colab": {
          "base_uri": "https://localhost:8080/"
        },
        "id": "-xvVbD1Q8mPI",
        "outputId": "71763b87-ae14-4854-b68b-87d3804a3a75"
      },
      "execution_count": 28,
      "outputs": [
        {
          "output_type": "stream",
          "name": "stdout",
          "text": [
            "Year is 2024 company is regex software\n"
          ]
        }
      ]
    },
    {
      "cell_type": "code",
      "source": [
        "year=2024\n",
        "company=\"regex software\"\n",
        "print(f\"Year is {year} company is {company}\")"
      ],
      "metadata": {
        "colab": {
          "base_uri": "https://localhost:8080/"
        },
        "id": "fyDJqiB782cF",
        "outputId": "637c0b62-2f49-4f22-dbd7-8ba158049d07"
      },
      "execution_count": 32,
      "outputs": [
        {
          "output_type": "stream",
          "name": "stdout",
          "text": [
            "Year is 2024 company is regex software\n"
          ]
        }
      ]
    },
    {
      "cell_type": "code",
      "source": [
        "username=\"tushar\"\n",
        "msg = f\"hey {username}\"\n",
        "\n",
        "print(msg)\n",
        "\n",
        "username=\"aman\"\n",
        "print(msg)"
      ],
      "metadata": {
        "colab": {
          "base_uri": "https://localhost:8080/"
        },
        "id": "4T9p4U2u9c9o",
        "outputId": "8bd3895d-fb9e-4a6c-ef23-58dd748ac3f7"
      },
      "execution_count": 33,
      "outputs": [
        {
          "output_type": "stream",
          "name": "stdout",
          "text": [
            "hey tushar\n",
            "hey tushar\n"
          ]
        }
      ]
    },
    {
      "cell_type": "code",
      "source": [],
      "metadata": {
        "id": "hG2Hbr1b-3_X"
      },
      "execution_count": null,
      "outputs": []
    }
  ]
}