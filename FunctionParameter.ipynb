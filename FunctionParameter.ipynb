{
 "cells": [
  {
   "cell_type": "code",
   "execution_count": 5,
   "id": "b38c2102-9073-4136-9d03-b8195c506017",
   "metadata": {},
   "outputs": [
    {
     "name": "stdout",
     "output_type": "stream",
     "text": [
      "Eid:10,Ename:naina,Email:naina@gmail.com\n"
     ]
    }
   ],
   "source": [
    "#argument parameter function\n",
    "def employee (eid ,ename,email):\n",
    "    print(f\"Eid:{eid},Ename:{ename},Email:{email}\")\n",
    "employee(10,\"naina\",\"naina@gmail.com\")\n"
   ]
  },
  {
   "cell_type": "code",
   "execution_count": 6,
   "id": "f7d7ffc2-77be-4fe3-8795-d68c6b47d6f3",
   "metadata": {},
   "outputs": [
    {
     "name": "stdout",
     "output_type": "stream",
     "text": [
      "Eid:10,Ename:naina,Email:naina@gmail.com\n"
     ]
    }
   ],
   "source": [
    "def employee (eid ,ename,email):\n",
    "    print(f\"Eid:{eid},Ename:{ename},Email:{email}\")\n",
    "employee(10,ename=\"naina\",email=\"naina@gmail.com\")"
   ]
  },
  {
   "cell_type": "code",
   "execution_count": 7,
   "id": "00a36e63-b675-4ee8-85e6-64ab0423f51f",
   "metadata": {},
   "outputs": [
    {
     "name": "stdout",
     "output_type": "stream",
     "text": [
      "Eid:10,Ename:naina,Email:naina@gmail.com\n"
     ]
    }
   ],
   "source": [
    "#defualt argument => function declaration\n",
    "def employee (eid ,ename,email=\"regex@gamil.com\"):\n",
    "    print(f\"Eid:{eid},Ename:{ename},Email:{email}\")\n",
    "employee(10,ename=\"naina\",email=\"naina@gmail.com\")"
   ]
  },
  {
   "cell_type": "code",
   "execution_count": 13,
   "id": "69e68ee5-cf0d-4ebf-a96a-2dd2b53e248c",
   "metadata": {},
   "outputs": [
    {
     "name": "stdout",
     "output_type": "stream",
     "text": [
      "() <class 'tuple'>\n",
      "(10, 20, 30) <class 'tuple'>\n",
      "(30, 'hey') <class 'tuple'>\n"
     ]
    }
   ],
   "source": [
    "#variable length argument:change as per situation\n",
    "def employee(*data):\n",
    "    print(data,type(data))\n",
    "\n",
    "employee()\n",
    "employee(10,20,30)\n",
    "employee(30,\"hey\")"
   ]
  },
  {
   "cell_type": "code",
   "execution_count": 15,
   "id": "97bbd6d9-dc78-4967-9476-0d90686e75e4",
   "metadata": {},
   "outputs": [
    {
     "name": "stdout",
     "output_type": "stream",
     "text": [
      "{'eid': 10, 'ename': 'abhishek'} <class 'dict'>\n",
      "{'email': 'abhishek@gmail.com'} <class 'dict'>\n",
      "{} <class 'dict'>\n"
     ]
    }
   ],
   "source": [
    "#keyword type variable name argument\n",
    "def employee(**data):\n",
    "    print(data,type(data))\n",
    "\n",
    "employee(eid=10,ename=\"abhishek\")\n",
    "employee(email=\"abhishek@gmail.com\")\n",
    "employee()"
   ]
  },
  {
   "cell_type": "code",
   "execution_count": 17,
   "id": "15f54583-f418-48f9-996e-4b0643ff8240",
   "metadata": {},
   "outputs": [
    {
     "data": {
      "text/plain": [
       "20"
      ]
     },
     "execution_count": 17,
     "metadata": {},
     "output_type": "execute_result"
    }
   ],
   "source": [
    "mytuple=(10,20)\n",
    "mytuple[1]"
   ]
  },
  {
   "cell_type": "code",
   "execution_count": 18,
   "id": "76df53f3-dcdf-48a2-8f27-5b502825edb4",
   "metadata": {},
   "outputs": [],
   "source": [
    "# *args and *kwargs difference"
   ]
  },
  {
   "cell_type": "code",
   "execution_count": 22,
   "id": "770b5ae2-6d9b-434d-869a-38b0867e88c8",
   "metadata": {},
   "outputs": [
    {
     "name": "stdout",
     "output_type": "stream",
     "text": [
      "X value in function= 20\n",
      "after function = 10\n"
     ]
    }
   ],
   "source": [
    "def fun(x):\n",
    "    x=x+10\n",
    "    print(\"X value in function=\",x)#call by object\n",
    "\n",
    "#outside\n",
    "num=10\n",
    "fun(num)\n",
    "print(\"after function =\",num)"
   ]
  },
  {
   "cell_type": "code",
   "execution_count": 23,
   "id": "71cd2b4d-649f-418d-ae05-3ec6c99fc70a",
   "metadata": {},
   "outputs": [
    {
     "name": "stdout",
     "output_type": "stream",
     "text": [
      "original [10, 20, 30] 1589126854656\n",
      "inside function  [10, 20, 30] 1589126854656\n",
      "inside function after change= [10, 20, 30, 60] 1589126854656\n"
     ]
    }
   ],
   "source": [
    "def func(mylist):\n",
    "    print(\"inside function \",mylist,id(mylist))\n",
    "    mylist.append(60)\n",
    "    print(\"inside function after change=\",mylist,id(mylist))\n",
    "\n",
    "\n",
    "#outside function\n",
    "list1=[10,20,30]\n",
    "print(\"original\",list1,id(list1))\n",
    "func(list1)"
   ]
  },
  {
   "cell_type": "code",
   "execution_count": 24,
   "id": "a5488c06-6593-452d-902d-c2ad2278d1c9",
   "metadata": {},
   "outputs": [],
   "source": [
    "#Lambda function\n",
    "#annymous function :function which does not have any name\n",
    "#one line -inline\n",
    "#"
   ]
  },
  {
   "cell_type": "code",
   "execution_count": 25,
   "id": "6911cd34-8812-4377-a264-73d38e151a9a",
   "metadata": {},
   "outputs": [
    {
     "name": "stdout",
     "output_type": "stream",
     "text": [
      "100\n"
     ]
    }
   ],
   "source": [
    "def square(x):\n",
    "    print(x**2)\n",
    "\n",
    "square(10)"
   ]
  },
  {
   "cell_type": "code",
   "execution_count": 31,
   "id": "d8041b9e-8db9-4ead-84f1-c7ee9d5d43eb",
   "metadata": {},
   "outputs": [
    {
     "data": {
      "text/plain": [
       "100"
      ]
     },
     "execution_count": 31,
     "metadata": {},
     "output_type": "execute_result"
    }
   ],
   "source": [
    "#Lambda parameter:expression  <=syntax\n",
    "Out=lambda x: x**2\n",
    "\n",
    "Out(10)\n",
    "#print(Out)"
   ]
  },
  {
   "cell_type": "code",
   "execution_count": 33,
   "id": "29a05769-dd42-442b-9b64-efc4edfc58fe",
   "metadata": {},
   "outputs": [
    {
     "name": "stdout",
     "output_type": "stream",
     "text": [
      "20\n"
     ]
    }
   ],
   "source": [
    "# return keyword\n",
    "\n",
    "def func(x):\n",
    "    print(x+10)\n",
    "#variable=func()\n",
    "func(10)"
   ]
  },
  {
   "cell_type": "code",
   "execution_count": 34,
   "id": "0a0db0e3-2678-43e7-9dc7-d7c07ed0dd1c",
   "metadata": {},
   "outputs": [
    {
     "name": "stdout",
     "output_type": "stream",
     "text": [
      "20\n",
      "return value= None\n"
     ]
    }
   ],
   "source": [
    "def func(x):\n",
    "    print(x+10)\n",
    "#variable=func()\n",
    "x=func(10)\n",
    "print(\"return value=\",x)"
   ]
  },
  {
   "cell_type": "code",
   "execution_count": 35,
   "id": "91e12acd-feac-4237-b0b6-80e3ea4c06f2",
   "metadata": {},
   "outputs": [
    {
     "name": "stdout",
     "output_type": "stream",
     "text": [
      "return value= 20\n"
     ]
    }
   ],
   "source": [
    "def func(x):\n",
    "     return x+10\n",
    "#variable=func()\n",
    "x=func(10)\n",
    "print(\"return value=\",x)"
   ]
  },
  {
   "cell_type": "code",
   "execution_count": 36,
   "id": "626b1bff-c0d7-47bf-b312-66ea4c2168c0",
   "metadata": {},
   "outputs": [
    {
     "name": "stdout",
     "output_type": "stream",
     "text": [
      "return value= hey\n"
     ]
    }
   ],
   "source": [
    "def func(x):\n",
    "     return \"hey\"\n",
    "    \n",
    "#variable=func()\n",
    "x=func(10)\n",
    "print(\"return value=\",x)# return anything you write there in return"
   ]
  },
  {
   "cell_type": "code",
   "execution_count": 38,
   "id": "059cfb31-022c-4fd3-9bd0-552578b98301",
   "metadata": {},
   "outputs": [
    {
     "name": "stdout",
     "output_type": "stream",
     "text": [
      "return value= hey\n"
     ]
    }
   ],
   "source": [
    "def func(x):\n",
    "     return \"hey\"\n",
    "     10/0  # not printed\n",
    "     return \"hello\"# not printed\n",
    "    \n",
    "#variable=func()\n",
    "x=func(10)\n",
    "print(\"return value=\",x)# return anything you write there in return"
   ]
  },
  {
   "cell_type": "code",
   "execution_count": 39,
   "id": "13793905-f712-4724-8b93-6f151ca9e958",
   "metadata": {},
   "outputs": [
    {
     "name": "stdout",
     "output_type": "stream",
     "text": [
      "return value= ('hey', 'hello')\n"
     ]
    }
   ],
   "source": [
    "def func(x):\n",
    "     return \"hey\",\"hello\"\n",
    "    \n",
    "#variable=func()\n",
    "x=func(10)\n",
    "print(\"return value=\",x)"
   ]
  },
  {
   "cell_type": "code",
   "execution_count": 40,
   "id": "e52626fe-f40e-4e85-bc89-b611a07965d1",
   "metadata": {},
   "outputs": [
    {
     "name": "stdout",
     "output_type": "stream",
     "text": [
      "return value= ['hey', 'hello']\n"
     ]
    }
   ],
   "source": [
    "def func(x):\n",
    "     return [\"hey\",\"hello\"]\n",
    "    \n",
    "#variable=func()\n",
    "x=func(10)\n",
    "print(\"return value=\",x)"
   ]
  },
  {
   "cell_type": "code",
   "execution_count": 49,
   "id": "2171c137-8a3b-41d1-9766-35609fbb59b5",
   "metadata": {},
   "outputs": [
    {
     "name": "stdout",
     "output_type": "stream",
     "text": [
      "Total characters: 11\n",
      "Total words: 1\n"
     ]
    }
   ],
   "source": [
    "def count_chars_and_words(input_string):\n",
    "          total_characters = len(input_string)\n",
    "          words = input_string.split()\n",
    "          total_words = len(words)\n",
    "          return total_characters, total_words\n",
    "\n",
    "# Example usage:\n",
    "input_string = \"mamtajangid\"\n",
    "char_count, word_count = count_chars_and_words(input_string)\n",
    "print(f\"Total characters: {char_count}\")\n",
    "print(f\"Total words: {word_count}\")\n"
   ]
  },
  {
   "cell_type": "code",
   "execution_count": 54,
   "id": "07d566a6-7c68-4921-8bdf-2d335bbf0077",
   "metadata": {},
   "outputs": [
    {
     "name": "stdout",
     "output_type": "stream",
     "text": [
      "{'hey hello': 9}\n"
     ]
    }
   ],
   "source": [
    "def funcn(s):\n",
    "    total=0\n",
    "    for i in s:\n",
    "        total+=1\n",
    "        \n",
    "    return {s:total}\n",
    "\n",
    "out=funcn(\"hey hello\")\n",
    "print(out)"
   ]
  },
  {
   "cell_type": "code",
   "execution_count": null,
   "id": "841ad979-8982-4ac4-b203-a87522942f3d",
   "metadata": {},
   "outputs": [],
   "source": []
  }
 ],
 "metadata": {
  "kernelspec": {
   "display_name": "Python 3 (ipykernel)",
   "language": "python",
   "name": "python3"
  },
  "language_info": {
   "codemirror_mode": {
    "name": "ipython",
    "version": 3
   },
   "file_extension": ".py",
   "mimetype": "text/x-python",
   "name": "python",
   "nbconvert_exporter": "python",
   "pygments_lexer": "ipython3",
   "version": "3.10.11"
  }
 },
 "nbformat": 4,
 "nbformat_minor": 5
}
