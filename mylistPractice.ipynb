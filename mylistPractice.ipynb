{
 "cells": [
  {
   "cell_type": "code",
   "execution_count": 1,
   "id": "3422f165-553b-4f88-8d81-91292333cfe8",
   "metadata": {},
   "outputs": [
    {
     "name": "stdout",
     "output_type": "stream",
     "text": [
      "[10, 20, 60.0, 'heelo']\n"
     ]
    }
   ],
   "source": [
    "mylist=[10,20,60.0,\"heelo\"]\n",
    "print(mylist)"
   ]
  },
  {
   "cell_type": "code",
   "execution_count": 2,
   "id": "cdc0e600-ef77-40cf-86ad-586e7b04f028",
   "metadata": {},
   "outputs": [
    {
     "name": "stdout",
     "output_type": "stream",
     "text": [
      "10 20 60.0 heelo\n"
     ]
    }
   ],
   "source": [
    "mylist=[10,20,60.0,\"heelo\"]\n",
    "print(*mylist)"
   ]
  },
  {
   "cell_type": "code",
   "execution_count": 5,
   "id": "040d7be3-34fa-40b6-8b75-b44b523e1e30",
   "metadata": {},
   "outputs": [
    {
     "name": "stdout",
     "output_type": "stream",
     "text": [
      "[10, 20, 60.0]\n"
     ]
    }
   ],
   "source": [
    " mylist=[10,20,60.0,\"heelo\"]\n",
    "print(mylist[0:3])"
   ]
  },
  {
   "cell_type": "code",
   "execution_count": 8,
   "id": "71adeaeb-032a-4214-b7ef-b6fbf9c9649f",
   "metadata": {},
   "outputs": [
    {
     "data": {
      "text/plain": [
       "[10, 20, 60.0, 'heelo', 10, 20, 30, 'abc', 10, 20, 30, 'abc']"
      ]
     },
     "execution_count": 8,
     "metadata": {},
     "output_type": "execute_result"
    }
   ],
   "source": [
    " mylist.extend([10,20,30,\"abc\"])\n",
    "mylist"
   ]
  },
  {
   "cell_type": "code",
   "execution_count": 9,
   "id": "1c502fc4-4eeb-4edd-9fb9-de70701067be",
   "metadata": {},
   "outputs": [
    {
     "data": {
      "text/plain": [
       "[10, 20, 60.0, 'heelo', 10, 20, 30, 'abc', 10, 20, 30, 'abc', 'a', 'b', 'c']"
      ]
     },
     "execution_count": 9,
     "metadata": {},
     "output_type": "execute_result"
    }
   ],
   "source": [
    " mylist.extend(\"abc\")\n",
    "mylist"
   ]
  },
  {
   "cell_type": "code",
   "execution_count": 15,
   "id": "0649eb9e-3d58-48ba-8036-bd117c66ce21",
   "metadata": {},
   "outputs": [
    {
     "data": {
      "text/plain": [
       "[10,\n",
       " 20,\n",
       " 60.0,\n",
       " 'heelo',\n",
       " 10,\n",
       " 20,\n",
       " 30,\n",
       " 'abc',\n",
       " 10,\n",
       " 20,\n",
       " 30,\n",
       " 'abc',\n",
       " 'a',\n",
       " 'b',\n",
       " 'c',\n",
       " 'abc',\n",
       " 'abc',\n",
       " 10,\n",
       " 20,\n",
       " 'mmj',\n",
       " 'abc']"
      ]
     },
     "execution_count": 15,
     "metadata": {},
     "output_type": "execute_result"
    }
   ],
   "source": [
    " mylist.extend([\"abc\"])\n",
    "mylist"
   ]
  },
  {
   "cell_type": "code",
   "execution_count": 13,
   "id": "9d992482-becb-4f6f-9f75-1900c948e45d",
   "metadata": {},
   "outputs": [
    {
     "data": {
      "text/plain": [
       "[10,\n",
       " 20,\n",
       " 60.0,\n",
       " 'heelo',\n",
       " 10,\n",
       " 20,\n",
       " 30,\n",
       " 'abc',\n",
       " 10,\n",
       " 20,\n",
       " 30,\n",
       " 'abc',\n",
       " 'a',\n",
       " 'b',\n",
       " 'c',\n",
       " 'abc',\n",
       " 'abc',\n",
       " 10,\n",
       " 20,\n",
       " 'mmj']"
      ]
     },
     "execution_count": 13,
     "metadata": {},
     "output_type": "execute_result"
    }
   ],
   "source": [
    "mylist.extend([10,20,\"mmj\"])\n",
    "mylist"
   ]
  },
  {
   "cell_type": "code",
   "execution_count": 14,
   "id": "78c1955a-6e0e-411c-9749-afb4ed95e6f9",
   "metadata": {},
   "outputs": [
    {
     "data": {
      "text/plain": [
       "[10,\n",
       " 20,\n",
       " 60.0,\n",
       " 'heelo',\n",
       " 10,\n",
       " 20,\n",
       " 30,\n",
       " 'abc',\n",
       " 10,\n",
       " 20,\n",
       " 30,\n",
       " 'abc',\n",
       " 'a',\n",
       " 'b',\n",
       " 'c',\n",
       " 'abc',\n",
       " 'abc',\n",
       " 10,\n",
       " 20,\n",
       " 'mmj']"
      ]
     },
     "execution_count": 14,
     "metadata": {},
     "output_type": "execute_result"
    }
   ],
   "source": [
    "mylist"
   ]
  },
  {
   "cell_type": "code",
   "execution_count": 17,
   "id": "d5d5c516-e363-418d-8bb7-f8aeb22a65ab",
   "metadata": {},
   "outputs": [
    {
     "name": "stdout",
     "output_type": "stream",
     "text": [
      "[10, 20, 60.0]\n",
      "hello\n"
     ]
    }
   ],
   "source": [
    "mylist1=[10,20,60.0,\"hello\"]\n",
    "y=mylist1.pop()\n",
    "print(mylist1)\n",
    "print(y)"
   ]
  },
  {
   "cell_type": "code",
   "execution_count": 25,
   "id": "dad94350-e4aa-4dbe-97b3-a8019f83d1d7",
   "metadata": {},
   "outputs": [
    {
     "name": "stdout",
     "output_type": "stream",
     "text": [
      "10\n",
      "20\n",
      "60.0\n",
      "hello\n"
     ]
    }
   ],
   "source": [
    "mylist2=[10,20,60.0,\"hello\"]\n",
    "for x in mylist2:\n",
    "   print(x)"
   ]
  },
  {
   "cell_type": "code",
   "execution_count": null,
   "id": "8931ed24-188e-4e16-aa38-e662078a9b03",
   "metadata": {},
   "outputs": [],
   "source": [
    "mylist2=[10,20,60.0,\"hello\"]\n",
    "len (mylist2)\n",
    "\n",
    "count=0\n",
    "while(count<5):\n",
    "    print(mylist)\n",
    "    count+=1"
   ]
  },
  {
   "cell_type": "code",
   "execution_count": null,
   "id": "59be6747-e4ab-43c4-b1c2-db11cbc031db",
   "metadata": {},
   "outputs": [],
   "source": []
  }
 ],
 "metadata": {
  "kernelspec": {
   "display_name": "Python 3 (ipykernel)",
   "language": "python",
   "name": "python3"
  },
  "language_info": {
   "codemirror_mode": {
    "name": "ipython",
    "version": 3
   },
   "file_extension": ".py",
   "mimetype": "text/x-python",
   "name": "python",
   "nbconvert_exporter": "python",
   "pygments_lexer": "ipython3",
   "version": "3.10.11"
  }
 },
 "nbformat": 4,
 "nbformat_minor": 5
}
