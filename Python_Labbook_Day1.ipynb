{
 "cells": [
  {
   "cell_type": "code",
   "execution_count": 5,
   "id": "e659e512-4755-4776-a635-4b060df3a1cd",
   "metadata": {},
   "outputs": [
    {
     "name": "stdout",
     "output_type": "stream",
     "text": [
      "hello Mamta\n"
     ]
    }
   ],
   "source": [
    "name=\"Mamta\"\n",
    "print(\"hello\",name)"
   ]
  },
  {
   "cell_type": "code",
   "execution_count": 14,
   "id": "5bc595b4-0d09-49d4-bf05-2ae6d3352e7a",
   "metadata": {},
   "outputs": [
    {
     "name": "stdin",
     "output_type": "stream",
     "text": [
      "enter the number n1 = 34\n",
      "enter the number n2= -67\n"
     ]
    },
    {
     "name": "stdout",
     "output_type": "stream",
     "text": [
      "res= -33\n",
      "-33  negative number"
     ]
    }
   ],
   "source": [
    "n1=int(input(\"enter the number n1 =\"))\n",
    "n2=int(input(\"enter the number n2=\"))\n",
    "res=n1+n2\n",
    "print(\"res=\",res)\n",
    "if(res > 0):\n",
    "    print(res,\" positive number\",end=\"\")\n",
    "else:\n",
    "    print(res,\" negative number\",end=\"\")"
   ]
  },
  {
   "cell_type": "code",
   "execution_count": 16,
   "id": "913453fa-2be7-4c25-9a45-7701f44cdd79",
   "metadata": {},
   "outputs": [
    {
     "name": "stdin",
     "output_type": "stream",
     "text": [
      "Guess the number:  5\n"
     ]
    },
    {
     "name": "stdout",
     "output_type": "stream",
     "text": [
      "Incorrect. Try again.\n"
     ]
    },
    {
     "name": "stdin",
     "output_type": "stream",
     "text": [
      "Guess the number:  6\n"
     ]
    },
    {
     "name": "stdout",
     "output_type": "stream",
     "text": [
      "Incorrect. Try again.\n"
     ]
    },
    {
     "name": "stdin",
     "output_type": "stream",
     "text": [
      "Guess the number:  3\n"
     ]
    },
    {
     "name": "stdout",
     "output_type": "stream",
     "text": [
      "Incorrect. Try again.\n"
     ]
    },
    {
     "name": "stdin",
     "output_type": "stream",
     "text": [
      "Guess the number:  11\n"
     ]
    },
    {
     "name": "stdout",
     "output_type": "stream",
     "text": [
      "Correct!\n"
     ]
    }
   ],
   "source": [
    "num=11\n",
    "while(True):\n",
    "        guess = int(input(\"Guess the number: \"))\n",
    "        if guess == num:\n",
    "            print(\"Correct!\")\n",
    "            break  \n",
    "        else:\n",
    "            print(\"Incorrect. Try again.\")\n"
   ]
  },
  {
   "cell_type": "code",
   "execution_count": 36,
   "id": "6241dae7-2190-49e6-88e0-0584c2607c49",
   "metadata": {},
   "outputs": [
    {
     "name": "stdout",
     "output_type": "stream",
     "text": [
      "Mamta.Jangid\n",
      "Hello.world!\n"
     ]
    }
   ],
   "source": [
    "$firstname=\"Mamta\"\n",
    "$Lastname=\"Jangid\"\n",
    "$Wholename=f\"{$firstname}.{$Lastname}\"\n",
    "print(Wholename)\n"
   ]
  },
  {
   "cell_type": "code",
   "execution_count": 15,
   "id": "7f990f04-aa50-4a3c-b236-13eca8bdc733",
   "metadata": {},
   "outputs": [
    {
     "name": "stdin",
     "output_type": "stream",
     "text": [
      "Enter a string= Hello How Are You\n"
     ]
    },
    {
     "name": "stdout",
     "output_type": "stream",
     "text": [
      "original string= Hello How Are You\n",
      "toggled case string= hELLO hOW aRE yOU\n"
     ]
    }
   ],
   "source": [
    "def func(data):\n",
    "    toggle= ''\n",
    "    for char in data:\n",
    "        if char.isalpha():  \n",
    "            if char.islower():\n",
    "                toggle+= char.upper()\n",
    "            else:\n",
    "                toggle+= char.lower()\n",
    "        else:\n",
    "            toggle+= char  \n",
    "    return toggle\n",
    " \n",
    "data= input(\"Enter a string=\")\n",
    "toggle=func(data)\n",
    "print(\"original string=\",data)\n",
    "print(\"toggled case string=\",toggle)"
   ]
  },
  {
   "cell_type": "code",
   "execution_count": 18,
   "id": "ffd0ede7-63b1-4cca-9ef7-42d4b0e2a65e",
   "metadata": {},
   "outputs": [
    {
     "name": "stdout",
     "output_type": "stream",
     "text": [
      "list of numbers= [1, 2, 3, 4]\n",
      "sum= 10\n",
      "multiplication= 24\n"
     ]
    }
   ],
   "source": [
    "def sumnum(nums):\n",
    "    total= 0\n",
    "    for num in nums:\n",
    "        total+= num\n",
    "    return total\n",
    "\n",
    "def multiplynum(nums):\n",
    "    product = 1\n",
    "    for num in nums:\n",
    "        product*= num\n",
    "    return product\n",
    "\n",
    "data= [1,2,3,4]\n",
    "print(\"list of numbers=\",data)\n",
    "print(\"sum=\",sumnum(data))\n",
    "print(\"multiplication=\",multiplynum(data))\n"
   ]
  },
  {
   "cell_type": "code",
   "execution_count": 19,
   "id": "78bf932e-15b3-4310-8b42-d40386ea1025",
   "metadata": {},
   "outputs": [
    {
     "name": "stdout",
     "output_type": "stream",
     "text": [
      "List a:[1, 2, 3, 4, 5]\n",
      "Is 3 in list a=True\n",
      "Is 6 in list a=False\n"
     ]
    }
   ],
   "source": [
    "def func(x,a):\n",
    "    for element in a:\n",
    "        if element == x:\n",
    "            return True\n",
    "    return False\n",
    "\n",
    "a= [1, 2, 3, 4, 5]\n",
    "x1= 3\n",
    "x2= 6\n",
    "\n",
    "print(f\"List a:{a}\")\n",
    "print(f\"Is {x1} in list a={func(x1,a)}\")\n",
    "print(f\"Is {x2} in list a={func(x2,a)}\")\n"
   ]
  },
  {
   "cell_type": "code",
   "execution_count": 20,
   "id": "e2d547ce-22b5-4795-9f61-0015ce0bdbf4",
   "metadata": {},
   "outputs": [
    {
     "name": "stdout",
     "output_type": "stream",
     "text": [
      "List 1: [1, 2, 3, 4, 5]\n",
      "List 2: [6, 7, 8, 9, 5]\n",
      "Does list1 and list2 have a common element=True\n"
     ]
    }
   ],
   "source": [
    "def func(l1, l2):\n",
    "    for elem1 in l1:\n",
    "        for elem2 in l2:\n",
    "            if elem1 == elem2:\n",
    "                return True\n",
    "    return False\n",
    "\n",
    "l1 = [1, 2, 3, 4, 5]\n",
    "l2 = [6, 7, 8, 9, 5]\n",
    "print(f\"List 1: {l1}\")\n",
    "print(f\"List 2: {l2}\")\n",
    "print(f\"Does list1 and list2 have a common element={func(l1,l2)}\")"
   ]
  },
  {
   "cell_type": "code",
   "execution_count": 23,
   "id": "b40933a2-df67-4571-af9f-afa5e3264ebd",
   "metadata": {},
   "outputs": [
    {
     "name": "stdout",
     "output_type": "stream",
     "text": [
      "Input list: [4, 9, 7]\n",
      "Histogram:\n",
      "****\n",
      "*********\n",
      "*******\n"
     ]
    }
   ],
   "source": [
    "def histogram(data):\n",
    "    for n in data:\n",
    "        print('*' *n)\n",
    "\n",
    "data= [4, 9, 7]\n",
    "print(\"Input list:\", data)\n",
    "print(\"Histogram:\")\n",
    "histogram(data)"
   ]
  },
  {
   "cell_type": "code",
   "execution_count": 27,
   "id": "332379b6-535e-4c7d-a4f0-733031cdc7ed",
   "metadata": {},
   "outputs": [
    {
     "name": "stdout",
     "output_type": "stream",
     "text": [
      "Athletes who participated only in 100m race: {'Rajesh', 'Vikay', 'Vaihai', 'John'}\n",
      "Athletes who participated only in 200m race: {'Priyanka', 'Petter', 'Vetry'}\n",
      "Athletes who participated both in 100m and 200m race: {'Kumar', 'Malar'}\n",
      "Athletes who participated only one race: {'Vikay', 'Priyanka', 'Vaihai', 'John', 'Petter', 'Vetry', 'Rajesh'}\n"
     ]
    }
   ],
   "source": [
    "hundred_meters = ['Vikay', 'John', 'Kumar', 'Rajesh', 'Malar', 'Vaihai']\n",
    "two_hundred_meters = ['Vetry', 'Petter', 'Priyanka', 'Kumar', 'Malar']\n",
    "\n",
    "\n",
    "hundred_meters_set = set(hundred_meters)\n",
    "two_hundred_meters_set = set(two_hundred_meters)\n",
    "\n",
    "only100m = hundred_meters_set - two_hundred_meters_set\n",
    "\n",
    "only200m = two_hundred_meters_set - hundred_meters_set\n",
    "\n",
    "both100mand200m = hundred_meters_set & two_hundred_meters_set\n",
    "\n",
    "onlyonerace = only100m.union(only200m)\n",
    "print(\"Athletes who participated only in 100m race:\", only100m)\n",
    "print(\"Athletes who participated only in 200m race:\", only200m)\n",
    "print(\"Athletes who participated both in 100m and 200m race:\", both100mand200m)\n",
    "print(\"Athletes who participated only one race:\", onlyonerace)\n"
   ]
  },
  {
   "cell_type": "code",
   "execution_count": 26,
   "id": "f118d62a-4535-4896-9b00-0cb1378b76c3",
   "metadata": {},
   "outputs": [
    {
     "name": "stdout",
     "output_type": "stream",
     "text": [
      "duplicate numbers= [8, 18, 3, 5]\n"
     ]
    }
   ],
   "source": [
    "def func(nums):\n",
    "    seen= set()\n",
    "    duplicates = set()\n",
    "    \n",
    "    for num in nums:\n",
    "        if num in seen:\n",
    "            duplicates.add(num)\n",
    "        else:\n",
    "            seen.add(num)\n",
    "    \n",
    "    return list(duplicates)\n",
    "\n",
    "nums = [5, 8, 4, 18, 8, 55, 6, 8, 3, 18, 5, 3, 44]\n",
    "d= func(nums)\n",
    "print(\"duplicate numbers=\",d)\n"
   ]
  },
  {
   "cell_type": "code",
   "execution_count": 25,
   "id": "9a3af734-67db-413f-a933-61d50f6b4fe7",
   "metadata": {},
   "outputs": [
    {
     "name": "stdout",
     "output_type": "stream",
     "text": [
      "Reversed list: ['snack', 'crocodile', 'zebra', 'lion', 'tiger', 'cat']\n"
     ]
    }
   ],
   "source": [
    "def rev(lst):\n",
    "    left=0\n",
    "    right=len(lst)-1\n",
    "    while left < right:\n",
    "        lst[left], lst[right] = lst[right], lst[left]\n",
    "        left += 1\n",
    "        right -= 1\n",
    "\n",
    "lst = [\"cat\", \"tiger\", \"lion\", \"zebra\", \"crocodile\", \"snack\"]\n",
    "rev(lst)\n",
    "print(\"reversed list:\", lst)\n"
   ]
  },
  {
   "cell_type": "code",
   "execution_count": null,
   "id": "208701a2-926c-4a1e-b795-97cc26f621ad",
   "metadata": {},
   "outputs": [],
   "source": []
  }
 ],
 "metadata": {
  "kernelspec": {
   "display_name": "Python 3 (ipykernel)",
   "language": "python",
   "name": "python3"
  },
  "language_info": {
   "codemirror_mode": {
    "name": "ipython",
    "version": 3
   },
   "file_extension": ".py",
   "mimetype": "text/x-python",
   "name": "python",
   "nbconvert_exporter": "python",
   "pygments_lexer": "ipython3",
   "version": "3.10.11"
  }
 },
 "nbformat": 4,
 "nbformat_minor": 5
}
