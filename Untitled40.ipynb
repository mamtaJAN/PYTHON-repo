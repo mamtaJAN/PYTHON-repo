{
 "cells": [
  {
   "cell_type": "code",
   "execution_count": 3,
   "id": "e3d22806-db69-4277-a7f2-b0166d98f3f2",
   "metadata": {},
   "outputs": [
    {
     "name": "stdout",
     "output_type": "stream",
     "text": [
      "hello\n"
     ]
    }
   ],
   "source": [
    "\"\"\"\n",
    "Python List Exercises\n",
    "Python program to interchange first and last elements in a list\n",
    "Python program to swap two elements in a list\n",
    "Python | Ways to find length of list\n",
    "Maximum of two numbers in Python\n",
    "Minimum of two numbers in Python\n",
    " More Programs on List\n",
    "\"\"\"\n",
    "\n"
   ]
  },
  {
   "cell_type": "code",
   "execution_count": 13,
   "id": "b4e493f1-a2d5-4dc1-a22b-7db85040a724",
   "metadata": {},
   "outputs": [
    {
     "name": "stdout",
     "output_type": "stream",
     "text": [
      "[2, 3, 4, 5]\n",
      "[2, 3, 4, 5, 1]\n",
      "[2, 3, 4, 1]\n"
     ]
    }
   ],
   "source": [
    "list=[1,2,3,4,5]\n",
    "a=list.pop(0)\n",
    "print(list)\n",
    "list.append(a)\n",
    "print(list)\n",
    "b=list.pop(3)\n",
    "print(list)\n"
   ]
  },
  {
   "cell_type": "code",
   "execution_count": 15,
   "id": "1295018e-fefa-4a9d-bd29-36d135ae3daf",
   "metadata": {},
   "outputs": [
    {
     "name": "stdout",
     "output_type": "stream",
     "text": [
      "[24, 35, 9, 56, 12]\n"
     ]
    }
   ],
   "source": [
    "newList = [12, 35, 9, 56, 24]\n",
    "\n",
    "size = len(newList)\n",
    "\n",
    "temp = newList[0]\n",
    "\n",
    "newList[0] = newList[size - 1]\n",
    "\n",
    "newList[size - 1] = temp\n",
    "print(newList)\n"
   ]
  },
  {
   "cell_type": "code",
   "execution_count": 19,
   "id": "5ad470af-e61a-48b7-8663-c7f965eaae89",
   "metadata": {},
   "outputs": [
    {
     "name": "stdout",
     "output_type": "stream",
     "text": [
      "6\n",
      "1\n"
     ]
    }
   ],
   "source": [
    "list1=[1,2,3,4,5,6]\n",
    "length=len(list1)\n",
    "print(length)\n",
    "temp=list1[0]\n",
    "print(temp)"
   ]
  },
  {
   "cell_type": "code",
   "execution_count": null,
   "id": "49d409e2-9c76-4be8-9de3-35e09ec23477",
   "metadata": {},
   "outputs": [],
   "source": [
    "\n"
   ]
  }
 ],
 "metadata": {
  "kernelspec": {
   "display_name": "Python 3 (ipykernel)",
   "language": "python",
   "name": "python3"
  },
  "language_info": {
   "codemirror_mode": {
    "name": "ipython",
    "version": 3
   },
   "file_extension": ".py",
   "mimetype": "text/x-python",
   "name": "python",
   "nbconvert_exporter": "python",
   "pygments_lexer": "ipython3",
   "version": "3.10.11"
  }
 },
 "nbformat": 4,
 "nbformat_minor": 5
}
