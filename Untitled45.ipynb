{
 "cells": [
  {
   "cell_type": "code",
   "execution_count": 2,
   "id": "2bdcfbc1-5576-4101-b567-456e721f2f32",
   "metadata": {},
   "outputs": [],
   "source": [
    "ll=[1,2,3,4,5]"
   ]
  },
  {
   "cell_type": "code",
   "execution_count": 3,
   "id": "70ad5039-ce72-4e2d-b482-34d96669d171",
   "metadata": {},
   "outputs": [
    {
     "name": "stdout",
     "output_type": "stream",
     "text": [
      "[1, 2, 3, 4, 5]\n"
     ]
    }
   ],
   "source": [
    "print(ll)"
   ]
  },
  {
   "cell_type": "code",
   "execution_count": 4,
   "id": "419a3e66-89bd-4ed2-a3ef-32c802d0061e",
   "metadata": {},
   "outputs": [
    {
     "name": "stdout",
     "output_type": "stream",
     "text": [
      "the first element is = 1\n"
     ]
    }
   ],
   "source": [
    "print(\"the first element is =\",ll[0])"
   ]
  },
  {
   "cell_type": "code",
   "execution_count": 6,
   "id": "f9d13dd8-525c-4b79-8266-2d7d5f69e59c",
   "metadata": {},
   "outputs": [
    {
     "name": "stdout",
     "output_type": "stream",
     "text": [
      "the second element is = 2\n",
      "the third element is = 3\n",
      "the fourth element is = 4\n",
      "the fivth element is = 5\n"
     ]
    }
   ],
   "source": [
    "print(\"the second element is =\",ll[1])\n",
    "print(\"the third element is =\",ll[2])\n",
    "print(\"the fourth element is =\",ll[3])\n",
    "print(\"the fivth element is =\",ll[4])\n"
   ]
  },
  {
   "cell_type": "code",
   "execution_count": 15,
   "id": "e80aeac5-6499-4e57-b047-941e99c8e96e",
   "metadata": {},
   "outputs": [
    {
     "name": "stdout",
     "output_type": "stream",
     "text": [
      "[2, 3, 4, 5]\n",
      "__ [1]\n",
      "[3]\n",
      "2\n",
      "[1]\n"
     ]
    }
   ],
   "source": [
    "ll=[1,2,3,4,5]\n",
    "print(ll[1:])\n",
    "\n",
    "print(\"__\",ll[:1:])\n",
    "\n",
    "print(ll[2:3])\n",
    "\n",
    "print(ll[-4])\n",
    "print(ll[:-4])\n"
   ]
  },
  {
   "cell_type": "code",
   "execution_count": 16,
   "id": "ad37a602-4574-4498-9530-1eaec09dbaed",
   "metadata": {},
   "outputs": [
    {
     "name": "stdout",
     "output_type": "stream",
     "text": [
      "[]\n",
      "[5]\n",
      "5\n",
      "[]\n",
      "[2, 3, 4]\n"
     ]
    }
   ],
   "source": [
    "ll=[1,2,3,4,5]\n",
    "print(ll[4:4])\n",
    "\n",
    "print(ll[-1:])\n",
    "print(ll[4])\n",
    "print(ll[-3:1])\n",
    "print(ll[1:4])\n"
   ]
  },
  {
   "cell_type": "code",
   "execution_count": 22,
   "id": "dfa75263-134e-4f92-8541-0d2e72b0e3f5",
   "metadata": {},
   "outputs": [
    {
     "name": "stdout",
     "output_type": "stream",
     "text": [
      "[1, 2, 3, 4, 5]\n"
     ]
    }
   ],
   "source": [
    "print(ll[0:5:1])"
   ]
  },
  {
   "cell_type": "code",
   "execution_count": 24,
   "id": "1b9437f5-5a33-4096-a0d6-bcfd74f8914b",
   "metadata": {},
   "outputs": [
    {
     "name": "stdout",
     "output_type": "stream",
     "text": [
      "5\n",
      "5\n",
      "2\n"
     ]
    }
   ],
   "source": [
    "ll1=['mamta','hello','hi']\n",
    "for i in ll1:\n",
    "    print(len(i))"
   ]
  },
  {
   "cell_type": "code",
   "execution_count": 26,
   "id": "712c35a1-b0e3-4b72-8a7c-cff9190a1939",
   "metadata": {},
   "outputs": [
    {
     "name": "stdout",
     "output_type": "stream",
     "text": [
      "mamta"
     ]
    }
   ],
   "source": [
    "ll2=['mamta']\n",
    "for i in ll2:\n",
    "    "
   ]
  },
  {
   "cell_type": "code",
   "execution_count": 27,
   "id": "25952c26-f6dd-426a-93f6-6efee6f68999",
   "metadata": {},
   "outputs": [
    {
     "name": "stdout",
     "output_type": "stream",
     "text": [
      "Element at index 0,1 are ['PMd', 2018]\n",
      "Element at index 2,3,4are= ['python', 'Mysql', 'Django']\n"
     ]
    }
   ],
   "source": [
    "ls =[\"PMd\",2018,\"python\",\"Mysql\",\"Django\"];\n",
    "print(\"Element at index 0,1 are\",ls[0:2])\n",
    "print(\"Element at index 2,3,4are=\",ls[2:5])"
   ]
  },
  {
   "cell_type": "code",
   "execution_count": 28,
   "id": "7992b3b0-a62f-4de1-b8ec-ea1bf21be39c",
   "metadata": {},
   "outputs": [
    {
     "name": "stdout",
     "output_type": "stream",
     "text": [
      "the list lst id  [1, 2, 3, 4]\n"
     ]
    }
   ],
   "source": [
    "lst=[1,2,3,4]\n",
    "print(\"the list lst id \",lst)"
   ]
  },
  {
   "cell_type": "code",
   "execution_count": 29,
   "id": "7b849f57-9335-4b38-8f8c-1d5511b34ee3",
   "metadata": {},
   "outputs": [],
   "source": [
    "del lst[0]"
   ]
  },
  {
   "cell_type": "code",
   "execution_count": 30,
   "id": "2f8c123a-6d9e-4b4e-afe8-54e2d03f76a1",
   "metadata": {},
   "outputs": [
    {
     "name": "stdout",
     "output_type": "stream",
     "text": [
      "[2, 3, 4]\n"
     ]
    }
   ],
   "source": [
    "print(lst)"
   ]
  },
  {
   "cell_type": "code",
   "execution_count": 31,
   "id": "befe9dec-e3f5-4ba6-8b91-17fec64fc16f",
   "metadata": {},
   "outputs": [
    {
     "name": "stdout",
     "output_type": "stream",
     "text": [
      "[5, 6, 7]\n"
     ]
    }
   ],
   "source": [
    "ls2=[5,6,7]\n",
    "print(ls2)"
   ]
  },
  {
   "cell_type": "code",
   "execution_count": 32,
   "id": "8d7e1082-93d1-4b1f-8bd6-53c1b325d46d",
   "metadata": {},
   "outputs": [],
   "source": [
    "ls1=lst+ls2"
   ]
  },
  {
   "cell_type": "code",
   "execution_count": 33,
   "id": "3e1aa769-ffc6-4c5d-b928-ed8405634147",
   "metadata": {},
   "outputs": [
    {
     "name": "stdout",
     "output_type": "stream",
     "text": [
      "[2, 3, 4, 5, 6, 7]\n"
     ]
    }
   ],
   "source": [
    "print(ls1)"
   ]
  },
  {
   "cell_type": "code",
   "execution_count": 34,
   "id": "42345528-ad12-4109-bbaa-6002efae8f49",
   "metadata": {},
   "outputs": [],
   "source": [
    "ls3=[8,9]"
   ]
  },
  {
   "cell_type": "code",
   "execution_count": 35,
   "id": "8daf914b-5111-4057-8f90-a302e09a2d10",
   "metadata": {},
   "outputs": [
    {
     "name": "stdout",
     "output_type": "stream",
     "text": [
      "[8, 9]\n"
     ]
    }
   ],
   "source": [
    "print(ls3)"
   ]
  },
  {
   "cell_type": "code",
   "execution_count": 36,
   "id": "29fd9ab2-52d9-4862-bd25-8332f61102db",
   "metadata": {},
   "outputs": [],
   "source": [
    "ls3=ls3*2"
   ]
  },
  {
   "cell_type": "code",
   "execution_count": 37,
   "id": "612f287f-50d9-43eb-a1a0-bd7384187eec",
   "metadata": {},
   "outputs": [
    {
     "name": "stdout",
     "output_type": "stream",
     "text": [
      "[5, 6, 7, 5, 6, 7]\n"
     ]
    }
   ],
   "source": [
    "print(ls3)"
   ]
  },
  {
   "cell_type": "code",
   "execution_count": 39,
   "id": "ea198c29-69c2-4adb-adad-f2b81f226cb0",
   "metadata": {},
   "outputs": [
    {
     "name": "stdout",
     "output_type": "stream",
     "text": [
      "java\n",
      "mysql\n",
      "networking\n"
     ]
    }
   ],
   "source": [
    "ls4=['java','mysql','networking']\n",
    "for i in ls4:\n",
    "    print(i)"
   ]
  },
  {
   "cell_type": "code",
   "execution_count": 40,
   "id": "b2e114ed-a737-4182-87f3-789eb1ff6dd9",
   "metadata": {},
   "outputs": [
    {
     "name": "stdout",
     "output_type": "stream",
     "text": [
      "['java', ['1.7', '1.8', '1.9'], 'python', ['3.7', '3.8'], 'Android', ['2.7', '3.0', '3.1']]\n"
     ]
    }
   ],
   "source": [
    "mylist=['java',[\"1.7\",\"1.8\",\"1.9\"],\"python\",['3.7','3.8'],\"Android\",[\"2.7\",\"3.0\",\"3.1\"]]\n",
    "print(mylist)"
   ]
  },
  {
   "cell_type": "code",
   "execution_count": 41,
   "id": "c1ca88ff-e50c-4b1d-9a42-076eb1658607",
   "metadata": {},
   "outputs": [
    {
     "name": "stdout",
     "output_type": "stream",
     "text": [
      "1.7\n"
     ]
    }
   ],
   "source": [
    "print(mylist[1][0])"
   ]
  },
  {
   "cell_type": "code",
   "execution_count": 42,
   "id": "66b56889-7fce-44a6-8881-130c5cc78fed",
   "metadata": {},
   "outputs": [
    {
     "name": "stdout",
     "output_type": "stream",
     "text": [
      "['1.7', '1.8', '1.9']\n"
     ]
    }
   ],
   "source": [
    "\n",
    "print(mylist[1])"
   ]
  },
  {
   "cell_type": "code",
   "execution_count": 43,
   "id": "b1b3ecea-4cf7-4e21-80b3-9c254f42fc51",
   "metadata": {},
   "outputs": [
    {
     "name": "stdout",
     "output_type": "stream",
     "text": [
      "1.8\n"
     ]
    }
   ],
   "source": [
    "print(mylist[1][1])"
   ]
  },
  {
   "cell_type": "code",
   "execution_count": 44,
   "id": "99ad4e0a-a957-483d-bc09-523b7b4b8c49",
   "metadata": {},
   "outputs": [
    {
     "name": "stdout",
     "output_type": "stream",
     "text": [
      "a\n"
     ]
    }
   ],
   "source": [
    "print(mylist[0][1])"
   ]
  },
  {
   "cell_type": "code",
   "execution_count": 45,
   "id": "2e4b4fae-3334-4f30-9901-30a920511006",
   "metadata": {},
   "outputs": [
    {
     "name": "stdout",
     "output_type": "stream",
     "text": [
      "y\n"
     ]
    }
   ],
   "source": [
    "print(mylist[2][1])"
   ]
  },
  {
   "cell_type": "code",
   "execution_count": 57,
   "id": "e3800957-1e30-42d0-abf7-63fac004dedb",
   "metadata": {},
   "outputs": [
    {
     "name": "stdout",
     "output_type": "stream",
     "text": [
      "a\n"
     ]
    }
   ],
   "source": [
    "mm=[\"mamta\"]\n",
    "print(mm[0][4])"
   ]
  },
  {
   "cell_type": "code",
   "execution_count": 61,
   "id": "09095afc-ed01-4552-b009-2211733c325c",
   "metadata": {},
   "outputs": [
    {
     "name": "stdout",
     "output_type": "stream",
     "text": [
      "\f",
      "\n"
     ]
    }
   ],
   "source": [
    "clear(mm)"
   ]
  },
  {
   "cell_type": "code",
   "execution_count": 62,
   "id": "b9c86c4b-afe6-4f4c-9771-c5659e0381c3",
   "metadata": {},
   "outputs": [
    {
     "name": "stdout",
     "output_type": "stream",
     "text": [
      "['mamta']\n"
     ]
    }
   ],
   "source": [
    "print(mm)"
   ]
  },
  {
   "cell_type": "code",
   "execution_count": 66,
   "id": "88fb6e98-0117-4b5d-bf24-cffb7ca50dd2",
   "metadata": {},
   "outputs": [
    {
     "name": "stdout",
     "output_type": "stream",
     "text": [
      "1\n"
     ]
    }
   ],
   "source": [
    "count=0\n",
    "for i in mm:\n",
    "    count+=1\n",
    "print(count)"
   ]
  },
  {
   "cell_type": "code",
   "execution_count": 68,
   "id": "34cbedbb-0bbe-4434-b82f-0beee8e4553d",
   "metadata": {},
   "outputs": [
    {
     "ename": "AttributeError",
     "evalue": "'list' object attribute 'extend' is read-only",
     "output_type": "error",
     "traceback": [
      "\u001b[1;31m---------------------------------------------------------------------------\u001b[0m",
      "\u001b[1;31mAttributeError\u001b[0m                            Traceback (most recent call last)",
      "Cell \u001b[1;32mIn[68], line 1\u001b[0m\n\u001b[1;32m----> 1\u001b[0m \u001b[43mmm\u001b[49m\u001b[38;5;241;43m.\u001b[39;49m\u001b[43mextend\u001b[49m\u001b[38;5;241m=\u001b[39m\u001b[38;5;124m'\u001b[39m\u001b[38;5;124mjangid\u001b[39m\u001b[38;5;124m'\u001b[39m\n",
      "\u001b[1;31mAttributeError\u001b[0m: 'list' object attribute 'extend' is read-only"
     ]
    }
   ],
   "source": [
    "mm.extend='jangid'"
   ]
  },
  {
   "cell_type": "code",
   "execution_count": null,
   "id": "300eefcb-c657-46d2-a01f-3efd6377eed4",
   "metadata": {},
   "outputs": [],
   "source": []
  }
 ],
 "metadata": {
  "kernelspec": {
   "display_name": "Python 3 (ipykernel)",
   "language": "python",
   "name": "python3"
  },
  "language_info": {
   "codemirror_mode": {
    "name": "ipython",
    "version": 3
   },
   "file_extension": ".py",
   "mimetype": "text/x-python",
   "name": "python",
   "nbconvert_exporter": "python",
   "pygments_lexer": "ipython3",
   "version": "3.10.11"
  }
 },
 "nbformat": 4,
 "nbformat_minor": 5
}
