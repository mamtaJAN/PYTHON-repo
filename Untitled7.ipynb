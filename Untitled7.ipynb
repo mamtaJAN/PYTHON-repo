{
 "cells": [
  {
   "cell_type": "code",
   "execution_count": 8,
   "id": "07d8cb68-5421-40d8-8146-96e39707fb9f",
   "metadata": {},
   "outputs": [
    {
     "name": "stdout",
     "output_type": "stream",
     "text": [
      "    A  \n",
      "  A   B  \n",
      "A   B   C  \n"
     ]
    }
   ],
   "source": [
    "  for i in range(3):\n",
    "        for j in range(3-i-1):\n",
    "            print(\"  \",end=\"\")\n",
    "        for j in range(i+1):\n",
    "            if j == 0:\n",
    "                print(chr(65+j),end=\"  \")\n",
    "            else:\n",
    "                print(\" \"+chr(65+j),end=\"  \")\n",
    "        print()"
   ]
  },
  {
   "cell_type": "code",
   "execution_count": 29,
   "id": "81f85674-c611-4718-874b-c45f9f953b1b",
   "metadata": {},
   "outputs": [
    {
     "name": "stdout",
     "output_type": "stream",
     "text": [
      "          A  \n",
      "        A   B  \n",
      "      A   B   C  \n",
      "    A   B   C   D  \n",
      "  A   B   C   D   E  \n"
     ]
    }
   ],
   "source": [
    "\n",
    "    for i in range(5):\n",
    "        for j in range(5-i):\n",
    "            print(\"  \", end=\"\")\n",
    "        for j in range(i+1):\n",
    "            if j == 0:\n",
    "                print(chr(65+j), end=\"  \")\n",
    "            else:\n",
    "                print(\" \"+chr(65+j), end=\"  \")\n",
    "        print()\n",
    "\n"
   ]
  },
  {
   "cell_type": "code",
   "execution_count": 40,
   "id": "76467180-fb36-49f3-af82-ee06ec5670e2",
   "metadata": {},
   "outputs": [
    {
     "name": "stdout",
     "output_type": "stream",
     "text": [
      "*****\n",
      " ***\n",
      "  *\n"
     ]
    }
   ],
   "source": [
    "\n",
    "\tfor i in range(3, 0, -1):\n",
    "\t\tfor j in range(3 - i):\n",
    "\t\t\tprint(\" \", end=\"\")\n",
    "\t\tfor k in range(2*i - 1):\n",
    "\t\t\tprint(\"*\", end=\"\")\n",
    "\t\tprint(\"\")"
   ]
  },
  {
   "cell_type": "code",
   "execution_count": 47,
   "id": "49ea7ab6-3604-4af1-804a-a0902097927f",
   "metadata": {},
   "outputs": [
    {
     "name": "stdout",
     "output_type": "stream",
     "text": [
      "       10\n",
      "     11  11\n",
      "   12  12  12\n"
     ]
    }
   ],
   "source": [
    "n=10\n",
    "for i in range(1,4):\n",
    "    print(\" \" * (2*(4-i)),end=' ')\n",
    "    print(\"  \".join([str(n)] * i))\n",
    "    n=n+1"
   ]
  },
  {
   "cell_type": "code",
   "execution_count": 57,
   "id": "ec249203-7027-4eab-989b-50338b7327f5",
   "metadata": {},
   "outputs": [
    {
     "name": "stdout",
     "output_type": "stream",
     "text": [
      " * * * * *\n",
      "  * * * *\n",
      "   * * *\n",
      "    * *\n",
      "     *\n",
      "     \n"
     ]
    }
   ],
   "source": [
    "for i in range(6, 0, -1):\n",
    "\t\tfor j in range(6-i):\n",
    "\t\t\tprint(\" \", end=\"\")\n",
    "\t\tfor k in range(1*i-1):\n",
    "\t\t\tprint(\" *\", end=\"\")\n",
    "\t\tprint(\"\")"
   ]
  },
  {
   "cell_type": "code",
   "execution_count": null,
   "id": "c3352a34-8ff2-4e2f-87d8-2d6f14c34496",
   "metadata": {},
   "outputs": [],
   "source": []
  }
 ],
 "metadata": {
  "kernelspec": {
   "display_name": "Python 3 (ipykernel)",
   "language": "python",
   "name": "python3"
  },
  "language_info": {
   "codemirror_mode": {
    "name": "ipython",
    "version": 3
   },
   "file_extension": ".py",
   "mimetype": "text/x-python",
   "name": "python",
   "nbconvert_exporter": "python",
   "pygments_lexer": "ipython3",
   "version": "3.10.11"
  }
 },
 "nbformat": 4,
 "nbformat_minor": 5
}
