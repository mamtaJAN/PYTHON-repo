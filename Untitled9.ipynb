{
 "cells": [
  {
   "cell_type": "code",
   "execution_count": 3,
   "id": "8751e9c0-0e1e-432e-aecc-4e0cd6c1cf86",
   "metadata": {},
   "outputs": [
    {
     "name": "stdout",
     "output_type": "stream",
     "text": [
      "hello"
     ]
    }
   ],
   "source": [
    "for x in \"hello\":\n",
    "    print(x,end=\"\")"
   ]
  },
  {
   "cell_type": "code",
   "execution_count": 6,
   "id": "139f5bec-701b-4f11-a4e5-6c822849cf07",
   "metadata": {},
   "outputs": [
    {
     "name": "stdout",
     "output_type": "stream",
     "text": [
      "d\n",
      "a\n",
      "t\n",
      "a\n"
     ]
    }
   ],
   "source": [
    "d=\"data\"\n",
    "for x in d:\n",
    "    print(x)"
   ]
  },
  {
   "cell_type": "code",
   "execution_count": 8,
   "id": "0bfe1130-dd70-4a14-9a20-c8752538ab35",
   "metadata": {},
   "outputs": [
    {
     "name": "stdout",
     "output_type": "stream",
     "text": [
      "regex5"
     ]
    }
   ],
   "source": [
    "data=\"regex\"\n",
    "count=0\n",
    "for char in data:\n",
    "    count+=1\n",
    "    print(char,end=\"\") \n",
    "print(count,end=\"\")"
   ]
  },
  {
   "cell_type": "code",
   "execution_count": 27,
   "id": "064e77c1-7984-4da6-8dc3-29ad3a6f2e35",
   "metadata": {},
   "outputs": [
    {
     "name": "stdout",
     "output_type": "stream",
     "text": [
      "0 mamta m\n",
      "1 mamta a\n",
      "2 mamta m\n",
      "3 mamta t\n",
      "4 mamta a\n",
      "length= 5\n"
     ]
    }
   ],
   "source": [
    "data=\"mamta\"\n",
    "for i in range (0,len(data)):\n",
    "    print(i,data,data[i])\n",
    "print(\"length=\",len(data))\n"
   ]
  },
  {
   "cell_type": "code",
   "execution_count": 26,
   "id": "dbdc8f4d-7af3-446d-a4d9-13c7c5e4efbf",
   "metadata": {},
   "outputs": [
    {
     "name": "stdout",
     "output_type": "stream",
     "text": [
      "a\n",
      "a\n",
      "a\n",
      "i\n"
     ]
    }
   ],
   "source": [
    "data=\"mamtajangid\"\n",
    "for i in data:\n",
    "  if i in 'aeiou':\n",
    "    print(i)"
   ]
  },
  {
   "cell_type": "code",
   "execution_count": null,
   "id": "f3be0f45-0af6-45b1-8caf-7133fe7de453",
   "metadata": {},
   "outputs": [],
   "source": []
  },
  {
   "cell_type": "code",
   "execution_count": null,
   "id": "e4c0ea05-cda7-40f2-bc9d-d3570d12b005",
   "metadata": {},
   "outputs": [],
   "source": []
  }
 ],
 "metadata": {
  "kernelspec": {
   "display_name": "Python 3 (ipykernel)",
   "language": "python",
   "name": "python3"
  },
  "language_info": {
   "codemirror_mode": {
    "name": "ipython",
    "version": 3
   },
   "file_extension": ".py",
   "mimetype": "text/x-python",
   "name": "python",
   "nbconvert_exporter": "python",
   "pygments_lexer": "ipython3",
   "version": "3.10.11"
  }
 },
 "nbformat": 4,
 "nbformat_minor": 5
}
